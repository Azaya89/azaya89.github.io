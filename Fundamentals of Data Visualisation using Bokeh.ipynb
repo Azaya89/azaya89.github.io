{
 "cells": [
  {
   "cell_type": "markdown",
   "id": "40435fd7",
   "metadata": {},
   "source": [
    "## Fundamentals of Data Visualisation (using Bokeh.)\n",
    "### [Book](https://clauswilke.com/dataviz/index.html) by Claus O. Wilke"
   ]
  },
  {
   "cell_type": "markdown",
   "id": "0c7a603c",
   "metadata": {},
   "source": [
    "#### What is Bokeh?\n",
    "\n",
    "[Bokeh](https://docs.bokeh.org/en/latest/index.html) is a Python library for creating interactive visualizations for modern web browsers. It helps you build beautiful graphics, ranging from simple plots to complex dashboards with streaming datasets. With Bokeh, you can create JavaScript-powered visualizations without writing any JavaScript yourself."
   ]
  },
  {
   "cell_type": "markdown",
   "id": "95ded999",
   "metadata": {},
   "source": [
    "In this blog post, I will demonstrating how to create some common visualisations with Bokeh using Jupyter notebook. In order to follow, and possibly recreate these plots, you should have [Python](www.python.org) installed on your local computer and also jupyter notebook, which can be gotten via the anaconda distribution [here](www.anaconda.org)"
   ]
  },
  {
   "cell_type": "code",
   "execution_count": null,
   "id": "0463ba06",
   "metadata": {},
   "outputs": [],
   "source": []
  }
 ],
 "metadata": {
  "kernelspec": {
   "display_name": "Python 3 (ipykernel)",
   "language": "python",
   "name": "python3"
  },
  "language_info": {
   "codemirror_mode": {
    "name": "ipython",
    "version": 3
   },
   "file_extension": ".py",
   "mimetype": "text/x-python",
   "name": "python",
   "nbconvert_exporter": "python",
   "pygments_lexer": "ipython3",
   "version": "3.9.13"
  }
 },
 "nbformat": 4,
 "nbformat_minor": 5
}
