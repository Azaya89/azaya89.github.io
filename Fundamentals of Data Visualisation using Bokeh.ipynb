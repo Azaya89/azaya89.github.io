{
 "cells": [
  {
   "cell_type": "markdown",
   "id": "fb7280eb",
   "metadata": {},
   "source": [
    "## Fundamentals of Data Visualisation using Bokeh.\n",
    "\n",
    "### [Book](https://clauswilke.com/dataviz/index.html) by Claus O. Wilke\n",
    "\n",
    "### Introduction.\n",
    "\n",
    "#### What is Bokeh?\n",
    "\n",
    "[Bokeh](https://docs.bokeh.org/en/latest/index.html) is a Python library for creating interactive visualizations for modern web browsers. It helps you build beautiful graphics, ranging from simple plots to complex dashboards with streaming datasets. With Bokeh, you can create JavaScript-powered visualizations without writing any JavaScript yourself.\n",
    "\n",
    "In this blog post, I will demonstrating how to create some common visualisations with Bokeh using Jupyter notebook. In order to follow, and possibly recreate these plots, you should have [Python](www.python.org) installed on your local computer and also jupyter notebook, which can be gotten via the anaconda distribution [here](www.anaconda.org)\n",
    "\n",
    "### Directory of visualisations.\n",
    "\n",
    "There are two ways in which you can display the visualisations created using Bokeh. By default, Bokeh displays the plots on the web browser but you can display your plots inline on your jupyter notebook by importing and running `output_notebook` before showing the plots."
   ]
  },
  {
   "cell_type": "code",
   "execution_count": 1,
   "id": "2384e0b4",
   "metadata": {},
   "outputs": [
    {
     "data": {
      "text/html": [
       "<div class=\"bk-root\">\n",
       "        <a href=\"https://bokeh.org\" target=\"_blank\" class=\"bk-logo bk-logo-small bk-logo-notebook\"></a>\n",
       "        <span id=\"1001\">Loading BokehJS ...</span>\n",
       "    </div>\n"
      ]
     },
     "metadata": {},
     "output_type": "display_data"
    },
    {
     "data": {
      "application/javascript": [
       "(function(root) {\n",
       "  function now() {\n",
       "    return new Date();\n",
       "  }\n",
       "\n",
       "  const force = true;\n",
       "\n",
       "  if (typeof root._bokeh_onload_callbacks === \"undefined\" || force === true) {\n",
       "    root._bokeh_onload_callbacks = [];\n",
       "    root._bokeh_is_loading = undefined;\n",
       "  }\n",
       "\n",
       "const JS_MIME_TYPE = 'application/javascript';\n",
       "  const HTML_MIME_TYPE = 'text/html';\n",
       "  const EXEC_MIME_TYPE = 'application/vnd.bokehjs_exec.v0+json';\n",
       "  const CLASS_NAME = 'output_bokeh rendered_html';\n",
       "\n",
       "  /**\n",
       "   * Render data to the DOM node\n",
       "   */\n",
       "  function render(props, node) {\n",
       "    const script = document.createElement(\"script\");\n",
       "    node.appendChild(script);\n",
       "  }\n",
       "\n",
       "  /**\n",
       "   * Handle when an output is cleared or removed\n",
       "   */\n",
       "  function handleClearOutput(event, handle) {\n",
       "    const cell = handle.cell;\n",
       "\n",
       "    const id = cell.output_area._bokeh_element_id;\n",
       "    const server_id = cell.output_area._bokeh_server_id;\n",
       "    // Clean up Bokeh references\n",
       "    if (id != null && id in Bokeh.index) {\n",
       "      Bokeh.index[id].model.document.clear();\n",
       "      delete Bokeh.index[id];\n",
       "    }\n",
       "\n",
       "    if (server_id !== undefined) {\n",
       "      // Clean up Bokeh references\n",
       "      const cmd_clean = \"from bokeh.io.state import curstate; print(curstate().uuid_to_server['\" + server_id + \"'].get_sessions()[0].document.roots[0]._id)\";\n",
       "      cell.notebook.kernel.execute(cmd_clean, {\n",
       "        iopub: {\n",
       "          output: function(msg) {\n",
       "            const id = msg.content.text.trim();\n",
       "            if (id in Bokeh.index) {\n",
       "              Bokeh.index[id].model.document.clear();\n",
       "              delete Bokeh.index[id];\n",
       "            }\n",
       "          }\n",
       "        }\n",
       "      });\n",
       "      // Destroy server and session\n",
       "      const cmd_destroy = \"import bokeh.io.notebook as ion; ion.destroy_server('\" + server_id + \"')\";\n",
       "      cell.notebook.kernel.execute(cmd_destroy);\n",
       "    }\n",
       "  }\n",
       "\n",
       "  /**\n",
       "   * Handle when a new output is added\n",
       "   */\n",
       "  function handleAddOutput(event, handle) {\n",
       "    const output_area = handle.output_area;\n",
       "    const output = handle.output;\n",
       "\n",
       "    // limit handleAddOutput to display_data with EXEC_MIME_TYPE content only\n",
       "    if ((output.output_type != \"display_data\") || (!Object.prototype.hasOwnProperty.call(output.data, EXEC_MIME_TYPE))) {\n",
       "      return\n",
       "    }\n",
       "\n",
       "    const toinsert = output_area.element.find(\".\" + CLASS_NAME.split(' ')[0]);\n",
       "\n",
       "    if (output.metadata[EXEC_MIME_TYPE][\"id\"] !== undefined) {\n",
       "      toinsert[toinsert.length - 1].firstChild.textContent = output.data[JS_MIME_TYPE];\n",
       "      // store reference to embed id on output_area\n",
       "      output_area._bokeh_element_id = output.metadata[EXEC_MIME_TYPE][\"id\"];\n",
       "    }\n",
       "    if (output.metadata[EXEC_MIME_TYPE][\"server_id\"] !== undefined) {\n",
       "      const bk_div = document.createElement(\"div\");\n",
       "      bk_div.innerHTML = output.data[HTML_MIME_TYPE];\n",
       "      const script_attrs = bk_div.children[0].attributes;\n",
       "      for (let i = 0; i < script_attrs.length; i++) {\n",
       "        toinsert[toinsert.length - 1].firstChild.setAttribute(script_attrs[i].name, script_attrs[i].value);\n",
       "        toinsert[toinsert.length - 1].firstChild.textContent = bk_div.children[0].textContent\n",
       "      }\n",
       "      // store reference to server id on output_area\n",
       "      output_area._bokeh_server_id = output.metadata[EXEC_MIME_TYPE][\"server_id\"];\n",
       "    }\n",
       "  }\n",
       "\n",
       "  function register_renderer(events, OutputArea) {\n",
       "\n",
       "    function append_mime(data, metadata, element) {\n",
       "      // create a DOM node to render to\n",
       "      const toinsert = this.create_output_subarea(\n",
       "        metadata,\n",
       "        CLASS_NAME,\n",
       "        EXEC_MIME_TYPE\n",
       "      );\n",
       "      this.keyboard_manager.register_events(toinsert);\n",
       "      // Render to node\n",
       "      const props = {data: data, metadata: metadata[EXEC_MIME_TYPE]};\n",
       "      render(props, toinsert[toinsert.length - 1]);\n",
       "      element.append(toinsert);\n",
       "      return toinsert\n",
       "    }\n",
       "\n",
       "    /* Handle when an output is cleared or removed */\n",
       "    events.on('clear_output.CodeCell', handleClearOutput);\n",
       "    events.on('delete.Cell', handleClearOutput);\n",
       "\n",
       "    /* Handle when a new output is added */\n",
       "    events.on('output_added.OutputArea', handleAddOutput);\n",
       "\n",
       "    /**\n",
       "     * Register the mime type and append_mime function with output_area\n",
       "     */\n",
       "    OutputArea.prototype.register_mime_type(EXEC_MIME_TYPE, append_mime, {\n",
       "      /* Is output safe? */\n",
       "      safe: true,\n",
       "      /* Index of renderer in `output_area.display_order` */\n",
       "      index: 0\n",
       "    });\n",
       "  }\n",
       "\n",
       "  // register the mime type if in Jupyter Notebook environment and previously unregistered\n",
       "  if (root.Jupyter !== undefined) {\n",
       "    const events = require('base/js/events');\n",
       "    const OutputArea = require('notebook/js/outputarea').OutputArea;\n",
       "\n",
       "    if (OutputArea.prototype.mime_types().indexOf(EXEC_MIME_TYPE) == -1) {\n",
       "      register_renderer(events, OutputArea);\n",
       "    }\n",
       "  }\n",
       "  if (typeof (root._bokeh_timeout) === \"undefined\" || force === true) {\n",
       "    root._bokeh_timeout = Date.now() + 5000;\n",
       "    root._bokeh_failed_load = false;\n",
       "  }\n",
       "\n",
       "  const NB_LOAD_WARNING = {'data': {'text/html':\n",
       "     \"<div style='background-color: #fdd'>\\n\"+\n",
       "     \"<p>\\n\"+\n",
       "     \"BokehJS does not appear to have successfully loaded. If loading BokehJS from CDN, this \\n\"+\n",
       "     \"may be due to a slow or bad network connection. Possible fixes:\\n\"+\n",
       "     \"</p>\\n\"+\n",
       "     \"<ul>\\n\"+\n",
       "     \"<li>re-rerun `output_notebook()` to attempt to load from CDN again, or</li>\\n\"+\n",
       "     \"<li>use INLINE resources instead, as so:</li>\\n\"+\n",
       "     \"</ul>\\n\"+\n",
       "     \"<code>\\n\"+\n",
       "     \"from bokeh.resources import INLINE\\n\"+\n",
       "     \"output_notebook(resources=INLINE)\\n\"+\n",
       "     \"</code>\\n\"+\n",
       "     \"</div>\"}};\n",
       "\n",
       "  function display_loaded() {\n",
       "    const el = document.getElementById(\"1001\");\n",
       "    if (el != null) {\n",
       "      el.textContent = \"BokehJS is loading...\";\n",
       "    }\n",
       "    if (root.Bokeh !== undefined) {\n",
       "      if (el != null) {\n",
       "        el.textContent = \"BokehJS \" + root.Bokeh.version + \" successfully loaded.\";\n",
       "      }\n",
       "    } else if (Date.now() < root._bokeh_timeout) {\n",
       "      setTimeout(display_loaded, 100)\n",
       "    }\n",
       "  }\n",
       "\n",
       "  function run_callbacks() {\n",
       "    try {\n",
       "      root._bokeh_onload_callbacks.forEach(function(callback) {\n",
       "        if (callback != null)\n",
       "          callback();\n",
       "      });\n",
       "    } finally {\n",
       "      delete root._bokeh_onload_callbacks\n",
       "    }\n",
       "    console.debug(\"Bokeh: all callbacks have finished\");\n",
       "  }\n",
       "\n",
       "  function load_libs(css_urls, js_urls, callback) {\n",
       "    if (css_urls == null) css_urls = [];\n",
       "    if (js_urls == null) js_urls = [];\n",
       "\n",
       "    root._bokeh_onload_callbacks.push(callback);\n",
       "    if (root._bokeh_is_loading > 0) {\n",
       "      console.debug(\"Bokeh: BokehJS is being loaded, scheduling callback at\", now());\n",
       "      return null;\n",
       "    }\n",
       "    if (js_urls == null || js_urls.length === 0) {\n",
       "      run_callbacks();\n",
       "      return null;\n",
       "    }\n",
       "    console.debug(\"Bokeh: BokehJS not loaded, scheduling load and callback at\", now());\n",
       "    root._bokeh_is_loading = css_urls.length + js_urls.length;\n",
       "\n",
       "    function on_load() {\n",
       "      root._bokeh_is_loading--;\n",
       "      if (root._bokeh_is_loading === 0) {\n",
       "        console.debug(\"Bokeh: all BokehJS libraries/stylesheets loaded\");\n",
       "        run_callbacks()\n",
       "      }\n",
       "    }\n",
       "\n",
       "    function on_error(url) {\n",
       "      console.error(\"failed to load \" + url);\n",
       "    }\n",
       "\n",
       "    for (let i = 0; i < css_urls.length; i++) {\n",
       "      const url = css_urls[i];\n",
       "      const element = document.createElement(\"link\");\n",
       "      element.onload = on_load;\n",
       "      element.onerror = on_error.bind(null, url);\n",
       "      element.rel = \"stylesheet\";\n",
       "      element.type = \"text/css\";\n",
       "      element.href = url;\n",
       "      console.debug(\"Bokeh: injecting link tag for BokehJS stylesheet: \", url);\n",
       "      document.body.appendChild(element);\n",
       "    }\n",
       "\n",
       "    for (let i = 0; i < js_urls.length; i++) {\n",
       "      const url = js_urls[i];\n",
       "      const element = document.createElement('script');\n",
       "      element.onload = on_load;\n",
       "      element.onerror = on_error.bind(null, url);\n",
       "      element.async = false;\n",
       "      element.src = url;\n",
       "      console.debug(\"Bokeh: injecting script tag for BokehJS library: \", url);\n",
       "      document.head.appendChild(element);\n",
       "    }\n",
       "  };\n",
       "\n",
       "  function inject_raw_css(css) {\n",
       "    const element = document.createElement(\"style\");\n",
       "    element.appendChild(document.createTextNode(css));\n",
       "    document.body.appendChild(element);\n",
       "  }\n",
       "\n",
       "  const js_urls = [\"https://cdn.bokeh.org/bokeh/release/bokeh-2.4.3.min.js\", \"https://cdn.bokeh.org/bokeh/release/bokeh-gl-2.4.3.min.js\", \"https://cdn.bokeh.org/bokeh/release/bokeh-widgets-2.4.3.min.js\", \"https://cdn.bokeh.org/bokeh/release/bokeh-tables-2.4.3.min.js\", \"https://cdn.bokeh.org/bokeh/release/bokeh-mathjax-2.4.3.min.js\"];\n",
       "  const css_urls = [];\n",
       "\n",
       "  const inline_js = [    function(Bokeh) {\n",
       "      Bokeh.set_log_level(\"info\");\n",
       "    },\n",
       "function(Bokeh) {\n",
       "    }\n",
       "  ];\n",
       "\n",
       "  function run_inline_js() {\n",
       "    if (root.Bokeh !== undefined || force === true) {\n",
       "          for (let i = 0; i < inline_js.length; i++) {\n",
       "      inline_js[i].call(root, root.Bokeh);\n",
       "    }\n",
       "if (force === true) {\n",
       "        display_loaded();\n",
       "      }} else if (Date.now() < root._bokeh_timeout) {\n",
       "      setTimeout(run_inline_js, 100);\n",
       "    } else if (!root._bokeh_failed_load) {\n",
       "      console.log(\"Bokeh: BokehJS failed to load within specified timeout.\");\n",
       "      root._bokeh_failed_load = true;\n",
       "    } else if (force !== true) {\n",
       "      const cell = $(document.getElementById(\"1001\")).parents('.cell').data().cell;\n",
       "      cell.output_area.append_execute_result(NB_LOAD_WARNING)\n",
       "    }\n",
       "  }\n",
       "\n",
       "  if (root._bokeh_is_loading === 0) {\n",
       "    console.debug(\"Bokeh: BokehJS loaded, going straight to plotting\");\n",
       "    run_inline_js();\n",
       "  } else {\n",
       "    load_libs(css_urls, js_urls, function() {\n",
       "      console.debug(\"Bokeh: BokehJS plotting callback run at\", now());\n",
       "      run_inline_js();\n",
       "    });\n",
       "  }\n",
       "}(window));"
      ],
      "application/vnd.bokehjs_load.v0+json": "(function(root) {\n  function now() {\n    return new Date();\n  }\n\n  const force = true;\n\n  if (typeof root._bokeh_onload_callbacks === \"undefined\" || force === true) {\n    root._bokeh_onload_callbacks = [];\n    root._bokeh_is_loading = undefined;\n  }\n\n\n  if (typeof (root._bokeh_timeout) === \"undefined\" || force === true) {\n    root._bokeh_timeout = Date.now() + 5000;\n    root._bokeh_failed_load = false;\n  }\n\n  const NB_LOAD_WARNING = {'data': {'text/html':\n     \"<div style='background-color: #fdd'>\\n\"+\n     \"<p>\\n\"+\n     \"BokehJS does not appear to have successfully loaded. If loading BokehJS from CDN, this \\n\"+\n     \"may be due to a slow or bad network connection. Possible fixes:\\n\"+\n     \"</p>\\n\"+\n     \"<ul>\\n\"+\n     \"<li>re-rerun `output_notebook()` to attempt to load from CDN again, or</li>\\n\"+\n     \"<li>use INLINE resources instead, as so:</li>\\n\"+\n     \"</ul>\\n\"+\n     \"<code>\\n\"+\n     \"from bokeh.resources import INLINE\\n\"+\n     \"output_notebook(resources=INLINE)\\n\"+\n     \"</code>\\n\"+\n     \"</div>\"}};\n\n  function display_loaded() {\n    const el = document.getElementById(\"1001\");\n    if (el != null) {\n      el.textContent = \"BokehJS is loading...\";\n    }\n    if (root.Bokeh !== undefined) {\n      if (el != null) {\n        el.textContent = \"BokehJS \" + root.Bokeh.version + \" successfully loaded.\";\n      }\n    } else if (Date.now() < root._bokeh_timeout) {\n      setTimeout(display_loaded, 100)\n    }\n  }\n\n  function run_callbacks() {\n    try {\n      root._bokeh_onload_callbacks.forEach(function(callback) {\n        if (callback != null)\n          callback();\n      });\n    } finally {\n      delete root._bokeh_onload_callbacks\n    }\n    console.debug(\"Bokeh: all callbacks have finished\");\n  }\n\n  function load_libs(css_urls, js_urls, callback) {\n    if (css_urls == null) css_urls = [];\n    if (js_urls == null) js_urls = [];\n\n    root._bokeh_onload_callbacks.push(callback);\n    if (root._bokeh_is_loading > 0) {\n      console.debug(\"Bokeh: BokehJS is being loaded, scheduling callback at\", now());\n      return null;\n    }\n    if (js_urls == null || js_urls.length === 0) {\n      run_callbacks();\n      return null;\n    }\n    console.debug(\"Bokeh: BokehJS not loaded, scheduling load and callback at\", now());\n    root._bokeh_is_loading = css_urls.length + js_urls.length;\n\n    function on_load() {\n      root._bokeh_is_loading--;\n      if (root._bokeh_is_loading === 0) {\n        console.debug(\"Bokeh: all BokehJS libraries/stylesheets loaded\");\n        run_callbacks()\n      }\n    }\n\n    function on_error(url) {\n      console.error(\"failed to load \" + url);\n    }\n\n    for (let i = 0; i < css_urls.length; i++) {\n      const url = css_urls[i];\n      const element = document.createElement(\"link\");\n      element.onload = on_load;\n      element.onerror = on_error.bind(null, url);\n      element.rel = \"stylesheet\";\n      element.type = \"text/css\";\n      element.href = url;\n      console.debug(\"Bokeh: injecting link tag for BokehJS stylesheet: \", url);\n      document.body.appendChild(element);\n    }\n\n    for (let i = 0; i < js_urls.length; i++) {\n      const url = js_urls[i];\n      const element = document.createElement('script');\n      element.onload = on_load;\n      element.onerror = on_error.bind(null, url);\n      element.async = false;\n      element.src = url;\n      console.debug(\"Bokeh: injecting script tag for BokehJS library: \", url);\n      document.head.appendChild(element);\n    }\n  };\n\n  function inject_raw_css(css) {\n    const element = document.createElement(\"style\");\n    element.appendChild(document.createTextNode(css));\n    document.body.appendChild(element);\n  }\n\n  const js_urls = [\"https://cdn.bokeh.org/bokeh/release/bokeh-2.4.3.min.js\", \"https://cdn.bokeh.org/bokeh/release/bokeh-gl-2.4.3.min.js\", \"https://cdn.bokeh.org/bokeh/release/bokeh-widgets-2.4.3.min.js\", \"https://cdn.bokeh.org/bokeh/release/bokeh-tables-2.4.3.min.js\", \"https://cdn.bokeh.org/bokeh/release/bokeh-mathjax-2.4.3.min.js\"];\n  const css_urls = [];\n\n  const inline_js = [    function(Bokeh) {\n      Bokeh.set_log_level(\"info\");\n    },\nfunction(Bokeh) {\n    }\n  ];\n\n  function run_inline_js() {\n    if (root.Bokeh !== undefined || force === true) {\n          for (let i = 0; i < inline_js.length; i++) {\n      inline_js[i].call(root, root.Bokeh);\n    }\nif (force === true) {\n        display_loaded();\n      }} else if (Date.now() < root._bokeh_timeout) {\n      setTimeout(run_inline_js, 100);\n    } else if (!root._bokeh_failed_load) {\n      console.log(\"Bokeh: BokehJS failed to load within specified timeout.\");\n      root._bokeh_failed_load = true;\n    } else if (force !== true) {\n      const cell = $(document.getElementById(\"1001\")).parents('.cell').data().cell;\n      cell.output_area.append_execute_result(NB_LOAD_WARNING)\n    }\n  }\n\n  if (root._bokeh_is_loading === 0) {\n    console.debug(\"Bokeh: BokehJS loaded, going straight to plotting\");\n    run_inline_js();\n  } else {\n    load_libs(css_urls, js_urls, function() {\n      console.debug(\"Bokeh: BokehJS plotting callback run at\", now());\n      run_inline_js();\n    });\n  }\n}(window));"
     },
     "metadata": {},
     "output_type": "display_data"
    }
   ],
   "source": [
    "# Import the relevant libraries\n",
    "from bokeh.io import output_notebook\n",
    "\n",
    "# run `output_notebook` to plot inline\n",
    "output_notebook()"
   ]
  },
  {
   "cell_type": "markdown",
   "id": "a70c0436",
   "metadata": {},
   "source": [
    "### **Bar Charts**\n",
    "\n",
    "Bar charts are tools used to visualise amounts. You can create vertical or horizontal bar charts with Bokeh as follows:"
   ]
  },
  {
   "cell_type": "code",
   "execution_count": 2,
   "id": "b3eeb6d9",
   "metadata": {
    "scrolled": true
   },
   "outputs": [
    {
     "data": {
      "text/html": [
       "\n",
       "  <div class=\"bk-root\" id=\"8bf946b7-9cfd-43ce-8caf-82140d1fab16\" data-root-id=\"1079\"></div>\n"
      ]
     },
     "metadata": {},
     "output_type": "display_data"
    },
    {
     "data": {
      "application/javascript": [
       "(function(root) {\n",
       "  function embed_document(root) {\n",
       "  const docs_json = {\"692ad4fb-b086-4f5d-9f34-45e92afc8e99\":{\"defs\":[],\"roots\":{\"references\":[{\"attributes\":{\"children\":[{\"id\":\"1003\"},{\"id\":\"1041\"}],\"sizing_mode\":\"stretch_width\"},\"id\":\"1079\",\"type\":\"Row\"},{\"attributes\":{},\"id\":\"1048\",\"type\":\"LinearScale\"},{\"attributes\":{},\"id\":\"1064\",\"type\":\"HelpTool\"},{\"attributes\":{},\"id\":\"1060\",\"type\":\"WheelZoomTool\"},{\"attributes\":{},\"id\":\"1089\",\"type\":\"CategoricalTickFormatter\"},{\"attributes\":{},\"id\":\"1015\",\"type\":\"CategoricalTicker\"},{\"attributes\":{},\"id\":\"1083\",\"type\":\"BasicTickFormatter\"},{\"attributes\":{},\"id\":\"1059\",\"type\":\"PanTool\"},{\"attributes\":{\"overlay\":{\"id\":\"1065\"}},\"id\":\"1061\",\"type\":\"BoxZoomTool\"},{\"attributes\":{\"data\":{\"right\":[20,23,15,27],\"y\":[\"Mary\",\"Peter\",\"James\",\"Mercy\"]},\"selected\":{\"id\":\"1098\"},\"selection_policy\":{\"id\":\"1097\"}},\"id\":\"1073\",\"type\":\"ColumnDataSource\"},{\"attributes\":{},\"id\":\"1090\",\"type\":\"AllLabels\"},{\"attributes\":{},\"id\":\"1062\",\"type\":\"SaveTool\"},{\"attributes\":{},\"id\":\"1084\",\"type\":\"AllLabels\"},{\"attributes\":{},\"id\":\"1063\",\"type\":\"ResetTool\"},{\"attributes\":{},\"id\":\"1053\",\"type\":\"BasicTicker\"},{\"attributes\":{\"axis\":{\"id\":\"1014\"},\"coordinates\":null,\"group\":null,\"ticker\":null},\"id\":\"1016\",\"type\":\"Grid\"},{\"attributes\":{\"source\":{\"id\":\"1035\"}},\"id\":\"1040\",\"type\":\"CDSView\"},{\"attributes\":{\"below\":[{\"id\":\"1052\"}],\"center\":[{\"id\":\"1055\"},{\"id\":\"1058\"}],\"height\":300,\"left\":[{\"id\":\"1056\"}],\"renderers\":[{\"id\":\"1077\"}],\"sizing_mode\":\"stretch_width\",\"title\":{\"id\":\"1042\"},\"toolbar\":{\"id\":\"1066\"},\"toolbar_location\":null,\"width\":300,\"x_range\":{\"id\":\"1044\"},\"x_scale\":{\"id\":\"1048\"},\"y_range\":{\"id\":\"1046\"},\"y_scale\":{\"id\":\"1050\"}},\"id\":\"1041\",\"subtype\":\"Figure\",\"type\":\"Plot\"},{\"attributes\":{},\"id\":\"1092\",\"type\":\"BasicTickFormatter\"},{\"attributes\":{\"axis_label\":\"Names\",\"coordinates\":null,\"formatter\":{\"id\":\"1086\"},\"group\":null,\"major_label_policy\":{\"id\":\"1087\"},\"ticker\":{\"id\":\"1015\"}},\"id\":\"1014\",\"type\":\"CategoricalAxis\"},{\"attributes\":{\"coordinates\":null,\"group\":null,\"text\":\"Age of siblings\"},\"id\":\"1042\",\"type\":\"Title\"},{\"attributes\":{\"fill_color\":{\"value\":\"green\"},\"hatch_color\":{\"value\":\"green\"},\"line_color\":{\"value\":\"green\"},\"top\":{\"field\":\"top\"},\"width\":{\"value\":0.5},\"x\":{\"field\":\"x\"}},\"id\":\"1036\",\"type\":\"VBar\"},{\"attributes\":{\"start\":10},\"id\":\"1008\",\"type\":\"DataRange1d\"},{\"attributes\":{},\"id\":\"1086\",\"type\":\"CategoricalTickFormatter\"},{\"attributes\":{},\"id\":\"1093\",\"type\":\"AllLabels\"},{\"attributes\":{\"factors\":[\"Mary\",\"Peter\",\"James\",\"Mercy\"]},\"id\":\"1006\",\"type\":\"FactorRange\"},{\"attributes\":{},\"id\":\"1022\",\"type\":\"WheelZoomTool\"},{\"attributes\":{},\"id\":\"1087\",\"type\":\"AllLabels\"},{\"attributes\":{\"coordinates\":null,\"data_source\":{\"id\":\"1035\"},\"glyph\":{\"id\":\"1036\"},\"group\":null,\"hover_glyph\":null,\"muted_glyph\":{\"id\":\"1038\"},\"nonselection_glyph\":{\"id\":\"1037\"},\"view\":{\"id\":\"1040\"}},\"id\":\"1039\",\"type\":\"GlyphRenderer\"},{\"attributes\":{\"axis\":{\"id\":\"1017\"},\"coordinates\":null,\"dimension\":1,\"group\":null,\"ticker\":null},\"id\":\"1020\",\"type\":\"Grid\"},{\"attributes\":{\"end\":30,\"start\":10},\"id\":\"1044\",\"type\":\"Range1d\"},{\"attributes\":{\"axis_label\":\"Ages\",\"coordinates\":null,\"formatter\":{\"id\":\"1083\"},\"group\":null,\"major_label_policy\":{\"id\":\"1084\"},\"ticker\":{\"id\":\"1018\"}},\"id\":\"1017\",\"type\":\"LinearAxis\"},{\"attributes\":{\"factors\":[\"Mary\",\"Peter\",\"James\",\"Mercy\"]},\"id\":\"1046\",\"type\":\"FactorRange\"},{\"attributes\":{\"source\":{\"id\":\"1073\"}},\"id\":\"1078\",\"type\":\"CDSView\"},{\"attributes\":{\"coordinates\":null,\"group\":null,\"text\":\"Age of siblings\"},\"id\":\"1004\",\"type\":\"Title\"},{\"attributes\":{\"axis_label\":\"Ages\",\"coordinates\":null,\"formatter\":{\"id\":\"1089\"},\"group\":null,\"major_label_policy\":{\"id\":\"1090\"},\"ticker\":{\"id\":\"1057\"}},\"id\":\"1056\",\"type\":\"CategoricalAxis\"},{\"attributes\":{},\"id\":\"1012\",\"type\":\"LinearScale\"},{\"attributes\":{\"fill_alpha\":{\"value\":0.1},\"fill_color\":{\"value\":\"red\"},\"hatch_alpha\":{\"value\":0.1},\"hatch_color\":{\"value\":\"red\"},\"height\":{\"value\":0.5},\"left\":{\"value\":10},\"line_alpha\":{\"value\":0.1},\"line_color\":{\"value\":\"red\"},\"right\":{\"field\":\"right\"},\"y\":{\"field\":\"y\"}},\"id\":\"1075\",\"type\":\"HBar\"},{\"attributes\":{\"fill_alpha\":{\"value\":0.2},\"fill_color\":{\"value\":\"red\"},\"hatch_alpha\":{\"value\":0.2},\"hatch_color\":{\"value\":\"red\"},\"height\":{\"value\":0.5},\"left\":{\"value\":10},\"line_alpha\":{\"value\":0.2},\"line_color\":{\"value\":\"red\"},\"right\":{\"field\":\"right\"},\"y\":{\"field\":\"y\"}},\"id\":\"1076\",\"type\":\"HBar\"},{\"attributes\":{\"coordinates\":null,\"data_source\":{\"id\":\"1073\"},\"glyph\":{\"id\":\"1074\"},\"group\":null,\"hover_glyph\":null,\"muted_glyph\":{\"id\":\"1076\"},\"nonselection_glyph\":{\"id\":\"1075\"},\"view\":{\"id\":\"1078\"}},\"id\":\"1077\",\"type\":\"GlyphRenderer\"},{\"attributes\":{\"fill_color\":{\"value\":\"red\"},\"hatch_color\":{\"value\":\"red\"},\"height\":{\"value\":0.5},\"left\":{\"value\":10},\"line_color\":{\"value\":\"red\"},\"right\":{\"field\":\"right\"},\"y\":{\"field\":\"y\"}},\"id\":\"1074\",\"type\":\"HBar\"},{\"attributes\":{},\"id\":\"1094\",\"type\":\"UnionRenderers\"},{\"attributes\":{},\"id\":\"1018\",\"type\":\"BasicTicker\"},{\"attributes\":{\"tools\":[{\"id\":\"1059\"},{\"id\":\"1060\"},{\"id\":\"1061\"},{\"id\":\"1062\"},{\"id\":\"1063\"},{\"id\":\"1064\"}]},\"id\":\"1066\",\"type\":\"Toolbar\"},{\"attributes\":{\"axis\":{\"id\":\"1056\"},\"coordinates\":null,\"dimension\":1,\"group\":null,\"ticker\":null},\"id\":\"1058\",\"type\":\"Grid\"},{\"attributes\":{},\"id\":\"1026\",\"type\":\"HelpTool\"},{\"attributes\":{\"axis\":{\"id\":\"1052\"},\"coordinates\":null,\"group\":null,\"ticker\":null},\"id\":\"1055\",\"type\":\"Grid\"},{\"attributes\":{},\"id\":\"1095\",\"type\":\"Selection\"},{\"attributes\":{\"overlay\":{\"id\":\"1027\"}},\"id\":\"1023\",\"type\":\"BoxZoomTool\"},{\"attributes\":{},\"id\":\"1021\",\"type\":\"PanTool\"},{\"attributes\":{},\"id\":\"1025\",\"type\":\"ResetTool\"},{\"attributes\":{\"fill_alpha\":{\"value\":0.2},\"fill_color\":{\"value\":\"green\"},\"hatch_alpha\":{\"value\":0.2},\"hatch_color\":{\"value\":\"green\"},\"line_alpha\":{\"value\":0.2},\"line_color\":{\"value\":\"green\"},\"top\":{\"field\":\"top\"},\"width\":{\"value\":0.5},\"x\":{\"field\":\"x\"}},\"id\":\"1038\",\"type\":\"VBar\"},{\"attributes\":{},\"id\":\"1024\",\"type\":\"SaveTool\"},{\"attributes\":{\"bottom_units\":\"screen\",\"coordinates\":null,\"fill_alpha\":0.5,\"fill_color\":\"lightgrey\",\"group\":null,\"left_units\":\"screen\",\"level\":\"overlay\",\"line_alpha\":1.0,\"line_color\":\"black\",\"line_dash\":[4,4],\"line_width\":2,\"right_units\":\"screen\",\"syncable\":false,\"top_units\":\"screen\"},\"id\":\"1065\",\"type\":\"BoxAnnotation\"},{\"attributes\":{\"bottom_units\":\"screen\",\"coordinates\":null,\"fill_alpha\":0.5,\"fill_color\":\"lightgrey\",\"group\":null,\"left_units\":\"screen\",\"level\":\"overlay\",\"line_alpha\":1.0,\"line_color\":\"black\",\"line_dash\":[4,4],\"line_width\":2,\"right_units\":\"screen\",\"syncable\":false,\"top_units\":\"screen\"},\"id\":\"1027\",\"type\":\"BoxAnnotation\"},{\"attributes\":{\"tools\":[{\"id\":\"1021\"},{\"id\":\"1022\"},{\"id\":\"1023\"},{\"id\":\"1024\"},{\"id\":\"1025\"},{\"id\":\"1026\"}]},\"id\":\"1028\",\"type\":\"Toolbar\"},{\"attributes\":{},\"id\":\"1097\",\"type\":\"UnionRenderers\"},{\"attributes\":{},\"id\":\"1010\",\"type\":\"CategoricalScale\"},{\"attributes\":{},\"id\":\"1098\",\"type\":\"Selection\"},{\"attributes\":{},\"id\":\"1057\",\"type\":\"CategoricalTicker\"},{\"attributes\":{\"data\":{\"top\":[20,23,15,27],\"x\":[\"Mary\",\"Peter\",\"James\",\"Mercy\"]},\"selected\":{\"id\":\"1095\"},\"selection_policy\":{\"id\":\"1094\"}},\"id\":\"1035\",\"type\":\"ColumnDataSource\"},{\"attributes\":{},\"id\":\"1050\",\"type\":\"CategoricalScale\"},{\"attributes\":{\"fill_alpha\":{\"value\":0.1},\"fill_color\":{\"value\":\"green\"},\"hatch_alpha\":{\"value\":0.1},\"hatch_color\":{\"value\":\"green\"},\"line_alpha\":{\"value\":0.1},\"line_color\":{\"value\":\"green\"},\"top\":{\"field\":\"top\"},\"width\":{\"value\":0.5},\"x\":{\"field\":\"x\"}},\"id\":\"1037\",\"type\":\"VBar\"},{\"attributes\":{\"axis_label\":\"Names\",\"coordinates\":null,\"formatter\":{\"id\":\"1092\"},\"group\":null,\"major_label_policy\":{\"id\":\"1093\"},\"ticker\":{\"id\":\"1053\"}},\"id\":\"1052\",\"type\":\"LinearAxis\"},{\"attributes\":{\"below\":[{\"id\":\"1014\"}],\"center\":[{\"id\":\"1016\"},{\"id\":\"1020\"}],\"height\":300,\"left\":[{\"id\":\"1017\"}],\"renderers\":[{\"id\":\"1039\"}],\"sizing_mode\":\"stretch_width\",\"title\":{\"id\":\"1004\"},\"toolbar\":{\"id\":\"1028\"},\"x_range\":{\"id\":\"1006\"},\"x_scale\":{\"id\":\"1010\"},\"y_range\":{\"id\":\"1008\"},\"y_scale\":{\"id\":\"1012\"}},\"id\":\"1003\",\"subtype\":\"Figure\",\"type\":\"Plot\"}],\"root_ids\":[\"1079\"]},\"title\":\"Bokeh Application\",\"version\":\"2.4.3\"}};\n",
       "  const render_items = [{\"docid\":\"692ad4fb-b086-4f5d-9f34-45e92afc8e99\",\"root_ids\":[\"1079\"],\"roots\":{\"1079\":\"8bf946b7-9cfd-43ce-8caf-82140d1fab16\"}}];\n",
       "  root.Bokeh.embed.embed_items_notebook(docs_json, render_items);\n",
       "  }\n",
       "  if (root.Bokeh !== undefined) {\n",
       "    embed_document(root);\n",
       "  } else {\n",
       "    let attempts = 0;\n",
       "    const timer = setInterval(function(root) {\n",
       "      if (root.Bokeh !== undefined) {\n",
       "        clearInterval(timer);\n",
       "        embed_document(root);\n",
       "      } else {\n",
       "        attempts++;\n",
       "        if (attempts > 100) {\n",
       "          clearInterval(timer);\n",
       "          console.log(\"Bokeh: ERROR: Unable to run BokehJS code because BokehJS library is missing\");\n",
       "        }\n",
       "      }\n",
       "    }, 10, root)\n",
       "  }\n",
       "})(window);"
      ],
      "application/vnd.bokehjs_exec.v0+json": ""
     },
     "metadata": {
      "application/vnd.bokehjs_exec.v0+json": {
       "id": "1079"
      }
     },
     "output_type": "display_data"
    }
   ],
   "source": [
    "# Import the relevant libraries\n",
    "from bokeh.plotting import figure, show\n",
    "from bokeh.layouts import row\n",
    "\n",
    "# sample data\n",
    "names = [\"Mary\", \"Peter\", \"James\", \"Mercy\"]\n",
    "ages = [20, 23, 15, 27]\n",
    "\n",
    "# plot a vertical bar\n",
    "p1 = figure(\n",
    "    x_range=names,\n",
    "    height=300,\n",
    "    title=\"Age of siblings\",\n",
    "    x_axis_label=\"Names\",\n",
    "    y_axis_label=\"Ages\"\n",
    "    )\n",
    "p1.vbar(x=names,\n",
    "        top=ages,\n",
    "        width=0.5,\n",
    "        color=\"green\")\n",
    "\n",
    "# plot a horizontal bar\n",
    "p2 = figure(\n",
    "    y_range=names,\n",
    "    x_range=(10, 30),\n",
    "    width=300,\n",
    "    height=300,\n",
    "    title=\"Age of siblings\",\n",
    "    x_axis_label=\"Names\",\n",
    "    y_axis_label=\"Ages\",\n",
    "    toolbar_location=None # option to remove the plot toolbar\n",
    "    )\n",
    "p2.hbar(y=names,\n",
    "        left=10,\n",
    "        right=ages,\n",
    "        height=0.5,\n",
    "        color=\"red\")\n",
    "\n",
    "# specify y_range for the vertical plot\n",
    "p1.y_range.start = 10\n",
    "\n",
    "# display both plots in the same row\n",
    "show(row(children=[p1, p2], \n",
    "         sizing_mode=\"stretch_width\"))\n",
    "\n"
   ]
  },
  {
   "cell_type": "markdown",
   "id": "7d38a4c7",
   "metadata": {},
   "source": [
    "You can also create grouped bar charts if you have two or more sets of categories you want to show their amounts."
   ]
  },
  {
   "cell_type": "code",
   "execution_count": 3,
   "id": "6845be01",
   "metadata": {},
   "outputs": [
    {
     "data": {
      "text/html": [
       "\n",
       "  <div class=\"bk-root\" id=\"2e25de9d-bd18-436a-ac49-a24bbf4d9437\" data-root-id=\"1201\"></div>\n"
      ]
     },
     "metadata": {},
     "output_type": "display_data"
    },
    {
     "data": {
      "application/javascript": [
       "(function(root) {\n",
       "  function embed_document(root) {\n",
       "  const docs_json = {\"c2b4036f-d787-40e4-a670-7a43905bd030\":{\"defs\":[],\"roots\":{\"references\":[{\"attributes\":{\"below\":[{\"id\":\"1212\"}],\"center\":[{\"id\":\"1214\"},{\"id\":\"1218\"},{\"id\":\"1250\"}],\"height\":300,\"left\":[{\"id\":\"1215\"}],\"renderers\":[{\"id\":\"1238\"},{\"id\":\"1257\"},{\"id\":\"1275\"}],\"sizing_mode\":\"stretch_width\",\"title\":{\"id\":\"1202\"},\"toolbar\":{\"id\":\"1226\"},\"toolbar_location\":null,\"x_range\":{\"id\":\"1204\"},\"x_scale\":{\"id\":\"1208\"},\"y_range\":{\"id\":\"1206\"},\"y_scale\":{\"id\":\"1210\"}},\"id\":\"1201\",\"subtype\":\"Figure\",\"type\":\"Plot\"},{\"attributes\":{\"coordinates\":null,\"formatter\":{\"id\":\"1242\"},\"group\":null,\"major_label_policy\":{\"id\":\"1243\"},\"ticker\":{\"id\":\"1216\"}},\"id\":\"1215\",\"type\":\"LinearAxis\"},{\"attributes\":{\"source\":{\"id\":\"1200\"}},\"id\":\"1258\",\"type\":\"CDSView\"},{\"attributes\":{\"data\":{\"Conservative\":[100,79,150,120],\"Labour\":[30,186,100,40],\"LibDem\":[180,90,40,140],\"region\":[\"East\",\"West\",\"North\",\"South\"]},\"selected\":{\"id\":\"1248\"},\"selection_policy\":{\"id\":\"1247\"}},\"id\":\"1200\",\"type\":\"ColumnDataSource\"},{\"attributes\":{\"axis\":{\"id\":\"1215\"},\"coordinates\":null,\"dimension\":1,\"group\":null,\"ticker\":null},\"id\":\"1218\",\"type\":\"Grid\"},{\"attributes\":{},\"id\":\"1216\",\"type\":\"BasicTicker\"},{\"attributes\":{\"label\":{\"value\":\"LibDem\"},\"renderers\":[{\"id\":\"1257\"}]},\"id\":\"1269\",\"type\":\"LegendItem\"},{\"attributes\":{\"label\":{\"value\":\"Conservative\"},\"renderers\":[{\"id\":\"1238\"}]},\"id\":\"1251\",\"type\":\"LegendItem\"},{\"attributes\":{},\"id\":\"1247\",\"type\":\"UnionRenderers\"},{\"attributes\":{\"coordinates\":null,\"data_source\":{\"id\":\"1200\"},\"glyph\":{\"id\":\"1254\"},\"group\":null,\"hover_glyph\":null,\"muted_glyph\":{\"id\":\"1256\"},\"nonselection_glyph\":{\"id\":\"1255\"},\"view\":{\"id\":\"1258\"}},\"id\":\"1257\",\"type\":\"GlyphRenderer\"},{\"attributes\":{\"fill_alpha\":{\"value\":0.2},\"fill_color\":{\"value\":\"blue\"},\"hatch_alpha\":{\"value\":0.2},\"hatch_color\":{\"value\":\"blue\"},\"line_alpha\":{\"value\":0.2},\"line_color\":{\"value\":\"blue\"},\"top\":{\"field\":\"LibDem\"},\"width\":{\"value\":0.2},\"x\":{\"field\":\"region\",\"transform\":{\"id\":\"1252\"}}},\"id\":\"1256\",\"type\":\"VBar\"},{\"attributes\":{},\"id\":\"1220\",\"type\":\"WheelZoomTool\"},{\"attributes\":{},\"id\":\"1219\",\"type\":\"PanTool\"},{\"attributes\":{\"overlay\":{\"id\":\"1225\"}},\"id\":\"1221\",\"type\":\"BoxZoomTool\"},{\"attributes\":{\"range\":{\"id\":\"1204\"},\"value\":0.25},\"id\":\"1270\",\"type\":\"Dodge\"},{\"attributes\":{\"fill_color\":{\"value\":\"blue\"},\"hatch_color\":{\"value\":\"blue\"},\"line_color\":{\"value\":\"blue\"},\"top\":{\"field\":\"LibDem\"},\"width\":{\"value\":0.2},\"x\":{\"field\":\"region\",\"transform\":{\"id\":\"1252\"}}},\"id\":\"1254\",\"type\":\"VBar\"},{\"attributes\":{},\"id\":\"1222\",\"type\":\"SaveTool\"},{\"attributes\":{\"fill_alpha\":{\"value\":0.2},\"fill_color\":{\"value\":\"yellow\"},\"hatch_alpha\":{\"value\":0.2},\"hatch_color\":{\"value\":\"yellow\"},\"line_alpha\":{\"value\":0.2},\"line_color\":{\"value\":\"yellow\"},\"top\":{\"field\":\"Labour\"},\"width\":{\"value\":0.2},\"x\":{\"field\":\"region\",\"transform\":{\"id\":\"1270\"}}},\"id\":\"1274\",\"type\":\"VBar\"},{\"attributes\":{\"fill_color\":{\"value\":\"yellow\"},\"hatch_color\":{\"value\":\"yellow\"},\"line_color\":{\"value\":\"yellow\"},\"top\":{\"field\":\"Labour\"},\"width\":{\"value\":0.2},\"x\":{\"field\":\"region\",\"transform\":{\"id\":\"1270\"}}},\"id\":\"1272\",\"type\":\"VBar\"},{\"attributes\":{},\"id\":\"1223\",\"type\":\"ResetTool\"},{\"attributes\":{\"fill_alpha\":{\"value\":0.1},\"fill_color\":{\"value\":\"yellow\"},\"hatch_alpha\":{\"value\":0.1},\"hatch_color\":{\"value\":\"yellow\"},\"line_alpha\":{\"value\":0.1},\"line_color\":{\"value\":\"yellow\"},\"top\":{\"field\":\"Labour\"},\"width\":{\"value\":0.2},\"x\":{\"field\":\"region\",\"transform\":{\"id\":\"1270\"}}},\"id\":\"1273\",\"type\":\"VBar\"},{\"attributes\":{\"factors\":[\"East\",\"West\",\"North\",\"South\"]},\"id\":\"1204\",\"type\":\"FactorRange\"},{\"attributes\":{},\"id\":\"1242\",\"type\":\"BasicTickFormatter\"},{\"attributes\":{\"end\":200,\"start\":20},\"id\":\"1206\",\"type\":\"DataRange1d\"},{\"attributes\":{\"coordinates\":null,\"formatter\":{\"id\":\"1245\"},\"group\":null,\"major_label_orientation\":0.5,\"major_label_policy\":{\"id\":\"1246\"},\"ticker\":{\"id\":\"1213\"}},\"id\":\"1212\",\"type\":\"CategoricalAxis\"},{\"attributes\":{\"coordinates\":null,\"data_source\":{\"id\":\"1200\"},\"glyph\":{\"id\":\"1272\"},\"group\":null,\"hover_glyph\":null,\"muted_glyph\":{\"id\":\"1274\"},\"nonselection_glyph\":{\"id\":\"1273\"},\"view\":{\"id\":\"1276\"}},\"id\":\"1275\",\"type\":\"GlyphRenderer\"},{\"attributes\":{\"axis\":{\"id\":\"1212\"},\"coordinates\":null,\"grid_line_color\":null,\"group\":null,\"ticker\":null},\"id\":\"1214\",\"type\":\"Grid\"},{\"attributes\":{\"label\":{\"value\":\"Labour\"},\"renderers\":[{\"id\":\"1275\"}]},\"id\":\"1287\",\"type\":\"LegendItem\"},{\"attributes\":{\"coordinates\":null,\"group\":null,\"text\":\"Election votes by region\"},\"id\":\"1202\",\"type\":\"Title\"},{\"attributes\":{\"bottom_units\":\"screen\",\"coordinates\":null,\"fill_alpha\":0.5,\"fill_color\":\"lightgrey\",\"group\":null,\"left_units\":\"screen\",\"level\":\"overlay\",\"line_alpha\":1.0,\"line_color\":\"black\",\"line_dash\":[4,4],\"line_width\":2,\"right_units\":\"screen\",\"syncable\":false,\"top_units\":\"screen\"},\"id\":\"1225\",\"type\":\"BoxAnnotation\"},{\"attributes\":{},\"id\":\"1213\",\"type\":\"CategoricalTicker\"},{\"attributes\":{},\"id\":\"1208\",\"type\":\"CategoricalScale\"},{\"attributes\":{\"coordinates\":null,\"data_source\":{\"id\":\"1200\"},\"glyph\":{\"id\":\"1235\"},\"group\":null,\"hover_glyph\":null,\"muted_glyph\":{\"id\":\"1237\"},\"nonselection_glyph\":{\"id\":\"1236\"},\"view\":{\"id\":\"1239\"}},\"id\":\"1238\",\"type\":\"GlyphRenderer\"},{\"attributes\":{\"fill_color\":{\"value\":\"red\"},\"hatch_color\":{\"value\":\"red\"},\"line_color\":{\"value\":\"red\"},\"top\":{\"field\":\"Conservative\"},\"width\":{\"value\":0.2},\"x\":{\"field\":\"region\",\"transform\":{\"id\":\"1233\"}}},\"id\":\"1235\",\"type\":\"VBar\"},{\"attributes\":{\"source\":{\"id\":\"1200\"}},\"id\":\"1276\",\"type\":\"CDSView\"},{\"attributes\":{},\"id\":\"1248\",\"type\":\"Selection\"},{\"attributes\":{\"tools\":[{\"id\":\"1219\"},{\"id\":\"1220\"},{\"id\":\"1221\"},{\"id\":\"1222\"},{\"id\":\"1223\"},{\"id\":\"1224\"}]},\"id\":\"1226\",\"type\":\"Toolbar\"},{\"attributes\":{},\"id\":\"1243\",\"type\":\"AllLabels\"},{\"attributes\":{},\"id\":\"1210\",\"type\":\"LinearScale\"},{\"attributes\":{},\"id\":\"1245\",\"type\":\"CategoricalTickFormatter\"},{\"attributes\":{\"range\":{\"id\":\"1204\"},\"value\":-0.25},\"id\":\"1233\",\"type\":\"Dodge\"},{\"attributes\":{\"fill_alpha\":{\"value\":0.2},\"fill_color\":{\"value\":\"red\"},\"hatch_alpha\":{\"value\":0.2},\"hatch_color\":{\"value\":\"red\"},\"line_alpha\":{\"value\":0.2},\"line_color\":{\"value\":\"red\"},\"top\":{\"field\":\"Conservative\"},\"width\":{\"value\":0.2},\"x\":{\"field\":\"region\",\"transform\":{\"id\":\"1233\"}}},\"id\":\"1237\",\"type\":\"VBar\"},{\"attributes\":{},\"id\":\"1246\",\"type\":\"AllLabels\"},{\"attributes\":{\"range\":{\"id\":\"1204\"}},\"id\":\"1252\",\"type\":\"Dodge\"},{\"attributes\":{\"coordinates\":null,\"group\":null,\"items\":[{\"id\":\"1251\"},{\"id\":\"1269\"},{\"id\":\"1287\"}],\"location\":\"top_center\",\"orientation\":\"horizontal\"},\"id\":\"1250\",\"type\":\"Legend\"},{\"attributes\":{\"source\":{\"id\":\"1200\"}},\"id\":\"1239\",\"type\":\"CDSView\"},{\"attributes\":{\"fill_alpha\":{\"value\":0.1},\"fill_color\":{\"value\":\"blue\"},\"hatch_alpha\":{\"value\":0.1},\"hatch_color\":{\"value\":\"blue\"},\"line_alpha\":{\"value\":0.1},\"line_color\":{\"value\":\"blue\"},\"top\":{\"field\":\"LibDem\"},\"width\":{\"value\":0.2},\"x\":{\"field\":\"region\",\"transform\":{\"id\":\"1252\"}}},\"id\":\"1255\",\"type\":\"VBar\"},{\"attributes\":{\"fill_alpha\":{\"value\":0.1},\"fill_color\":{\"value\":\"red\"},\"hatch_alpha\":{\"value\":0.1},\"hatch_color\":{\"value\":\"red\"},\"line_alpha\":{\"value\":0.1},\"line_color\":{\"value\":\"red\"},\"top\":{\"field\":\"Conservative\"},\"width\":{\"value\":0.2},\"x\":{\"field\":\"region\",\"transform\":{\"id\":\"1233\"}}},\"id\":\"1236\",\"type\":\"VBar\"},{\"attributes\":{},\"id\":\"1224\",\"type\":\"HelpTool\"}],\"root_ids\":[\"1201\"]},\"title\":\"Bokeh Application\",\"version\":\"2.4.3\"}};\n",
       "  const render_items = [{\"docid\":\"c2b4036f-d787-40e4-a670-7a43905bd030\",\"root_ids\":[\"1201\"],\"roots\":{\"1201\":\"2e25de9d-bd18-436a-ac49-a24bbf4d9437\"}}];\n",
       "  root.Bokeh.embed.embed_items_notebook(docs_json, render_items);\n",
       "  }\n",
       "  if (root.Bokeh !== undefined) {\n",
       "    embed_document(root);\n",
       "  } else {\n",
       "    let attempts = 0;\n",
       "    const timer = setInterval(function(root) {\n",
       "      if (root.Bokeh !== undefined) {\n",
       "        clearInterval(timer);\n",
       "        embed_document(root);\n",
       "      } else {\n",
       "        attempts++;\n",
       "        if (attempts > 100) {\n",
       "          clearInterval(timer);\n",
       "          console.log(\"Bokeh: ERROR: Unable to run BokehJS code because BokehJS library is missing\");\n",
       "        }\n",
       "      }\n",
       "    }, 10, root)\n",
       "  }\n",
       "})(window);"
      ],
      "application/vnd.bokehjs_exec.v0+json": ""
     },
     "metadata": {
      "application/vnd.bokehjs_exec.v0+json": {
       "id": "1201"
      }
     },
     "output_type": "display_data"
    }
   ],
   "source": [
    "#import libraries\n",
    "from bokeh.models import ColumnDataSource\n",
    "from bokeh.transform import dodge\n",
    "\n",
    "# sample data\n",
    "parties = [\"Conservative\", \"LibDem\", \"Labour\"]\n",
    "regions = [\"East\", \"West\", \"North\", \"South\"]\n",
    "votes = {\"region\": regions,\n",
    "        \"Conservative\": [100, 79, 150, 120],\n",
    "        \"LibDem\": [180, 90, 40, 140],\n",
    "        \"Labour\": [30, 186, 100, 40],}\n",
    "\n",
    "# create data source\n",
    "source = ColumnDataSource(data=votes)\n",
    "\n",
    "# Plot charts\n",
    "p = figure(title=\"Election votes by region\",\n",
    "          x_range=regions,\n",
    "           height=300,\n",
    "           toolbar_location=None,\n",
    "           sizing_mode=\"stretch_width\"\n",
    "          )\n",
    "p.vbar(x=dodge(\"region\", -0.25, range=p.x_range),\n",
    "       top=\"Conservative\",\n",
    "       width=0.2,\n",
    "       source=source,\n",
    "       legend_label=\"Conservative\",\n",
    "       color=\"red\")\n",
    "p.vbar(x=dodge(\"region\", 0.0, range=p.x_range),\n",
    "       top=\"LibDem\",\n",
    "       width=0.2,\n",
    "       source=source,\n",
    "       legend_label=\"LibDem\",\n",
    "       color=\"blue\")\n",
    "p.vbar(x=dodge(\"region\", 0.25, range=p.x_range),\n",
    "       top=\"Labour\",\n",
    "       width=0.2,\n",
    "       source=source,\n",
    "       legend_label=\"Labour\",\n",
    "       color=\"yellow\")\n",
    "\n",
    "\n",
    "p.y_range.start = 20\n",
    "p.y_range.end = 200\n",
    "p.xaxis.major_label_orientation = 0.5\n",
    "p.xgrid.grid_line_color = None\n",
    "p.legend.location = \"top_center\"\n",
    "p.legend.orientation = \"horizontal\"\n",
    "\n",
    "show(p)"
   ]
  },
  {
   "cell_type": "markdown",
   "id": "66c3e3c4",
   "metadata": {},
   "source": [
    "In the above plot, `ColumnDataSource` is used to store the data for the election results. The ColumnDataSource (CDS) is the core of most Bokeh plots. It provides the data to the glyphs of your plot. For more information about CDS, see [here](https://docs.bokeh.org/en/latest/docs/user_guide/basic/data.html#ug-basic-data-cds).\n",
    "\n",
    "\n",
    "`dodge()` is a function in Bokeh that shifts the bars horizontally so that they don\"t overlap. It takes three parameters: the name of the column to dodge, the amount to shift the bar (in this case, -0.25, 0.0, and 0.25), and the range of the x-axis.\n",
    "\n",
    "\n",
    "`legend`, a  property of a Bokeh figure that allows you to add a legend to the plot is used to add and customise the legend of the plot.\n",
    "\n",
    "Always remember to run `output_notebook()` in order to display your plots inline if you are using jupyter notebook."
   ]
  },
  {
   "cell_type": "markdown",
   "id": "a71b08c1",
   "metadata": {},
   "source": [
    "### Density plots"
   ]
  },
  {
   "cell_type": "markdown",
   "id": "aa3bcf02",
   "metadata": {},
   "source": [
    "Histograms are usually the most common method of visualising density distributions. Consider the following data set:"
   ]
  },
  {
   "cell_type": "code",
   "execution_count": 4,
   "id": "e53c85b9",
   "metadata": {},
   "outputs": [],
   "source": [
    "data = {\n",
    "    \"age_range\":[\"0-5\",\n",
    "                 \"6-10\",\n",
    "                 \"11-15\",\n",
    "                 \"16-20\",\n",
    "                 \"21-25\",\n",
    "                 \"26-30\",\n",
    "                 \"31-35\",\n",
    "                 \"36-40\",\n",
    "                 \"41-45\",\n",
    "                 \"46-50\",\n",
    "                 \"51-55\",\n",
    "                 \"56-60\"],\n",
    "    \"count\":[36,19,18,99,139,121,76,74,54,50,26,22],\n",
    "       }\n",
    "\n",
    "age_interval = list(range(0,61,5))"
   ]
  },
  {
   "cell_type": "markdown",
   "id": "61ade155",
   "metadata": {},
   "source": [
    "We can visualise the age distribution in this data set using a histogram as follows:"
   ]
  },
  {
   "cell_type": "code",
   "execution_count": 5,
   "id": "da80eea0",
   "metadata": {},
   "outputs": [
    {
     "data": {
      "text/html": [
       "\n",
       "  <div class=\"bk-root\" id=\"4ca272e4-3f65-4807-82a9-31326744748f\" data-root-id=\"1368\"></div>\n"
      ]
     },
     "metadata": {},
     "output_type": "display_data"
    },
    {
     "data": {
      "application/javascript": [
       "(function(root) {\n",
       "  function embed_document(root) {\n",
       "  const docs_json = {\"ace8de37-0a32-4f2d-9e92-e7e01be13dbe\":{\"defs\":[],\"roots\":{\"references\":[{\"attributes\":{\"below\":[{\"id\":\"1379\"}],\"center\":[{\"id\":\"1382\"},{\"id\":\"1386\"}],\"height\":400,\"left\":[{\"id\":\"1383\"}],\"renderers\":[{\"id\":\"1405\"}],\"sizing_mode\":\"stretch_width\",\"title\":{\"id\":\"1369\"},\"toolbar\":{\"id\":\"1394\"},\"toolbar_location\":null,\"width\":100,\"x_range\":{\"id\":\"1371\"},\"x_scale\":{\"id\":\"1375\"},\"y_range\":{\"id\":\"1373\"},\"y_scale\":{\"id\":\"1377\"}},\"id\":\"1368\",\"subtype\":\"Figure\",\"type\":\"Plot\"},{\"attributes\":{},\"id\":\"1392\",\"type\":\"HelpTool\"},{\"attributes\":{},\"id\":\"1444\",\"type\":\"UnionRenderers\"},{\"attributes\":{\"axis_label\":\"Count\",\"coordinates\":null,\"formatter\":{\"id\":\"1439\"},\"group\":null,\"major_label_policy\":{\"id\":\"1440\"},\"ticker\":{\"id\":\"1384\"}},\"id\":\"1383\",\"type\":\"LinearAxis\"},{\"attributes\":{\"bottom\":{\"value\":0},\"fill_alpha\":{\"value\":0.2},\"fill_color\":{\"value\":\"skyblue\"},\"hatch_alpha\":{\"value\":0.2},\"hatch_color\":{\"value\":\"skyblue\"},\"left\":{\"field\":\"left\"},\"line_alpha\":{\"value\":0.2},\"line_color\":{\"value\":\"white\"},\"line_width\":{\"value\":2},\"right\":{\"field\":\"right\"},\"top\":{\"field\":\"top\"}},\"id\":\"1404\",\"type\":\"Quad\"},{\"attributes\":{\"axis\":{\"id\":\"1383\"},\"coordinates\":null,\"dimension\":1,\"group\":null,\"ticker\":null},\"id\":\"1386\",\"type\":\"Grid\"},{\"attributes\":{\"axis\":{\"id\":\"1379\"},\"coordinates\":null,\"group\":null,\"ticker\":null},\"id\":\"1382\",\"type\":\"Grid\"},{\"attributes\":{\"bottom_units\":\"screen\",\"coordinates\":null,\"fill_alpha\":0.5,\"fill_color\":\"lightgrey\",\"group\":null,\"left_units\":\"screen\",\"level\":\"overlay\",\"line_alpha\":1.0,\"line_color\":\"black\",\"line_dash\":[4,4],\"line_width\":2,\"right_units\":\"screen\",\"syncable\":false,\"top_units\":\"screen\"},\"id\":\"1393\",\"type\":\"BoxAnnotation\"},{\"attributes\":{\"source\":{\"id\":\"1401\"}},\"id\":\"1406\",\"type\":\"CDSView\"},{\"attributes\":{},\"id\":\"1377\",\"type\":\"LinearScale\"},{\"attributes\":{\"overlay\":{\"id\":\"1393\"}},\"id\":\"1389\",\"type\":\"BoxZoomTool\"},{\"attributes\":{},\"id\":\"1380\",\"type\":\"BasicTicker\"},{\"attributes\":{},\"id\":\"1391\",\"type\":\"ResetTool\"},{\"attributes\":{\"data\":{\"left\":[0,5,10,15,20,25,30,35,40,45,50,55],\"right\":[5,10,15,20,25,30,35,40,45,50,55,60],\"top\":[36,19,18,99,139,121,76,74,54,50,26,22]},\"selected\":{\"id\":\"1445\"},\"selection_policy\":{\"id\":\"1444\"}},\"id\":\"1401\",\"type\":\"ColumnDataSource\"},{\"attributes\":{},\"id\":\"1373\",\"type\":\"DataRange1d\"},{\"attributes\":{},\"id\":\"1440\",\"type\":\"AllLabels\"},{\"attributes\":{\"coordinates\":null,\"data_source\":{\"id\":\"1401\"},\"glyph\":{\"id\":\"1402\"},\"group\":null,\"hover_glyph\":null,\"muted_glyph\":{\"id\":\"1404\"},\"nonselection_glyph\":{\"id\":\"1403\"},\"view\":{\"id\":\"1406\"}},\"id\":\"1405\",\"type\":\"GlyphRenderer\"},{\"attributes\":{},\"id\":\"1371\",\"type\":\"DataRange1d\"},{\"attributes\":{},\"id\":\"1375\",\"type\":\"LinearScale\"},{\"attributes\":{},\"id\":\"1384\",\"type\":\"BasicTicker\"},{\"attributes\":{},\"id\":\"1390\",\"type\":\"SaveTool\"},{\"attributes\":{\"tools\":[{\"id\":\"1387\"},{\"id\":\"1388\"},{\"id\":\"1389\"},{\"id\":\"1390\"},{\"id\":\"1391\"},{\"id\":\"1392\"}]},\"id\":\"1394\",\"type\":\"Toolbar\"},{\"attributes\":{\"axis_label\":\"Age range\",\"coordinates\":null,\"formatter\":{\"id\":\"1442\"},\"group\":null,\"major_label_policy\":{\"id\":\"1443\"},\"ticker\":{\"id\":\"1380\"}},\"id\":\"1379\",\"type\":\"LinearAxis\"},{\"attributes\":{},\"id\":\"1439\",\"type\":\"BasicTickFormatter\"},{\"attributes\":{},\"id\":\"1442\",\"type\":\"BasicTickFormatter\"},{\"attributes\":{\"bottom\":{\"value\":0},\"fill_alpha\":{\"value\":0.1},\"fill_color\":{\"value\":\"skyblue\"},\"hatch_alpha\":{\"value\":0.1},\"hatch_color\":{\"value\":\"skyblue\"},\"left\":{\"field\":\"left\"},\"line_alpha\":{\"value\":0.1},\"line_color\":{\"value\":\"white\"},\"line_width\":{\"value\":2},\"right\":{\"field\":\"right\"},\"top\":{\"field\":\"top\"}},\"id\":\"1403\",\"type\":\"Quad\"},{\"attributes\":{\"bottom\":{\"value\":0},\"fill_alpha\":{\"value\":0.9},\"fill_color\":{\"value\":\"skyblue\"},\"hatch_alpha\":{\"value\":0.9},\"hatch_color\":{\"value\":\"skyblue\"},\"left\":{\"field\":\"left\"},\"line_alpha\":{\"value\":0.9},\"line_color\":{\"value\":\"white\"},\"line_width\":{\"value\":2},\"right\":{\"field\":\"right\"},\"top\":{\"field\":\"top\"}},\"id\":\"1402\",\"type\":\"Quad\"},{\"attributes\":{\"coordinates\":null,\"group\":null,\"text\":\"Age Distribution\"},\"id\":\"1369\",\"type\":\"Title\"},{\"attributes\":{},\"id\":\"1387\",\"type\":\"PanTool\"},{\"attributes\":{},\"id\":\"1388\",\"type\":\"WheelZoomTool\"},{\"attributes\":{},\"id\":\"1443\",\"type\":\"AllLabels\"},{\"attributes\":{},\"id\":\"1445\",\"type\":\"Selection\"}],\"root_ids\":[\"1368\"]},\"title\":\"Bokeh Application\",\"version\":\"2.4.3\"}};\n",
       "  const render_items = [{\"docid\":\"ace8de37-0a32-4f2d-9e92-e7e01be13dbe\",\"root_ids\":[\"1368\"],\"roots\":{\"1368\":\"4ca272e4-3f65-4807-82a9-31326744748f\"}}];\n",
       "  root.Bokeh.embed.embed_items_notebook(docs_json, render_items);\n",
       "  }\n",
       "  if (root.Bokeh !== undefined) {\n",
       "    embed_document(root);\n",
       "  } else {\n",
       "    let attempts = 0;\n",
       "    const timer = setInterval(function(root) {\n",
       "      if (root.Bokeh !== undefined) {\n",
       "        clearInterval(timer);\n",
       "        embed_document(root);\n",
       "      } else {\n",
       "        attempts++;\n",
       "        if (attempts > 100) {\n",
       "          clearInterval(timer);\n",
       "          console.log(\"Bokeh: ERROR: Unable to run BokehJS code because BokehJS library is missing\");\n",
       "        }\n",
       "      }\n",
       "    }, 10, root)\n",
       "  }\n",
       "})(window);"
      ],
      "application/vnd.bokehjs_exec.v0+json": ""
     },
     "metadata": {
      "application/vnd.bokehjs_exec.v0+json": {
       "id": "1368"
      }
     },
     "output_type": "display_data"
    }
   ],
   "source": [
    "from bokeh.plotting import figure, show\n",
    "\n",
    "p = figure(title=\"Age Distribution\",\n",
    "           sizing_mode=\"stretch_width\",\n",
    "           width=100,\n",
    "           height=400,\n",
    "           toolbar_location=None,\n",
    "          )\n",
    "\n",
    "p.quad(left=age_interval[:-1],\n",
    "       right=age_interval[1:],\n",
    "       bottom=0,\n",
    "       top=data[\"count\"],\n",
    "       color=\"skyblue\",\n",
    "       line_color=\"white\",\n",
    "       line_width=2,\n",
    "       alpha=0.9)\n",
    "\n",
    "p.xaxis.axis_label = \"Age range\"\n",
    "p.yaxis.axis_label = \"Count\"\n",
    "\n",
    "show(p)\n"
   ]
  },
  {
   "cell_type": "markdown",
   "id": "06ec81fa",
   "metadata": {},
   "source": [
    "The `quad()` method is a Bokeh glyph method used to create a quadrilateral shape with four vertices. It takes in four lists of coordinates, which correspond to the x and y coordinates of the four vertices, and optional parameters to customize the appearance of the glyph.\n",
    "\n",
    "Here are the parameters for the `quad()` method:\n",
    "\n",
    "*left* (float): The x-coordinates of the left edges of the quads.\n",
    "\n",
    "*right* (float): The x-coordinates of the right edges of the quads.\n",
    "\n",
    "*bottom* (float): The y-coordinates of the bottom edges of the quads.\n",
    "\n",
    "*top* (float): The y-coordinates of the top edges of the quads.\n",
    "\n",
    "These parameters can be lists or arrays of values that specify the coordinates of each quad. In addition to these required parameters, the quad() method also accepts the following optional parameters:\n",
    "\n",
    "*color* (str): The color of the quad outlines.\n",
    "\n",
    "*alpha* (float): The transparency of the quad outlines and fills.\n",
    "\n",
    "*line_width* (float): The width of the quad outlines.\n",
    "\n",
    "*line_color* (str): The color of the quad outlines.\n",
    "\n",
    "*line_alpha* (float): The transparency of the quad outlines.\n",
    "\n",
    "*fill_color* (str): The fill color of the quads.\n",
    "\n",
    "*fill_alpha* (float): The transparency of the quad fills."
   ]
  },
  {
   "cell_type": "markdown",
   "id": "cdeb1bd2",
   "metadata": {},
   "source": [
    "### **Visualising Proportions**\n",
    "\n",
    "***Pie Charts*** are a common way of visualising proportions. It helps to quickly and easily understand how a given part is compared to a whole.\n",
    "\n",
    "Consider the following data sample:\n",
    "\n"
   ]
  },
  {
   "cell_type": "code",
   "execution_count": 6,
   "id": "e26832cc",
   "metadata": {},
   "outputs": [],
   "source": [
    "party = [\"CDU\", \"SPD\", \"FDP\"]\n",
    "num_seats = [243, 214, 39]\n",
    "\n"
   ]
  },
  {
   "cell_type": "markdown",
   "id": "3032e085",
   "metadata": {},
   "source": [
    "You can make a Pie chart showing the proportion of the total seats each party holds as follows:"
   ]
  },
  {
   "cell_type": "code",
   "execution_count": 7,
   "id": "1a2c501e",
   "metadata": {
    "scrolled": false
   },
   "outputs": [
    {
     "data": {
      "text/html": [
       "\n",
       "  <div class=\"bk-root\" id=\"7d4b0301-51a1-4a40-b2fa-33dfc90f6d33\" data-root-id=\"1497\"></div>\n"
      ]
     },
     "metadata": {},
     "output_type": "display_data"
    },
    {
     "data": {
      "application/javascript": [
       "(function(root) {\n",
       "  function embed_document(root) {\n",
       "  const docs_json = {\"a41470fa-70f0-42eb-b6be-1cda2ec3a498\":{\"defs\":[],\"roots\":{\"references\":[{\"attributes\":{\"below\":[{\"id\":\"1508\"}],\"center\":[{\"id\":\"1511\"},{\"id\":\"1515\"},{\"id\":\"1537\"}],\"height\":300,\"left\":[{\"id\":\"1512\"}],\"renderers\":[{\"id\":\"1526\"}],\"sizing_mode\":\"stretch_width\",\"title\":{\"id\":\"1498\"},\"toolbar\":{\"id\":\"1517\"},\"toolbar_location\":null,\"x_range\":{\"id\":\"1500\"},\"x_scale\":{\"id\":\"1504\"},\"y_range\":{\"id\":\"1502\"},\"y_scale\":{\"id\":\"1506\"}},\"id\":\"1497\",\"subtype\":\"Figure\",\"type\":\"Plot\"},{\"attributes\":{\"tools\":[{\"id\":\"1516\"}]},\"id\":\"1517\",\"type\":\"Toolbar\"},{\"attributes\":{\"label\":{\"field\":\"party\"},\"renderers\":[{\"id\":\"1526\"}]},\"id\":\"1538\",\"type\":\"LegendItem\"},{\"attributes\":{\"end_angle\":{\"expr\":{\"id\":\"1520\"}},\"fill_alpha\":{\"value\":0.2},\"fill_color\":{\"field\":\"color\"},\"hatch_alpha\":{\"value\":0.2},\"hatch_color\":{\"field\":\"color\"},\"line_alpha\":{\"value\":0.2},\"line_color\":{\"value\":\"white\"},\"radius\":{\"value\":0.25},\"start_angle\":{\"expr\":{\"id\":\"1519\"}},\"x\":{\"value\":0.5},\"y\":{\"value\":0.5}},\"id\":\"1525\",\"type\":\"Wedge\"},{\"attributes\":{\"coordinates\":null,\"group\":null,\"items\":[{\"id\":\"1538\"}]},\"id\":\"1537\",\"type\":\"Legend\"},{\"attributes\":{},\"id\":\"1535\",\"type\":\"UnionRenderers\"},{\"attributes\":{\"coordinates\":null,\"data_source\":{\"id\":\"1521\"},\"glyph\":{\"id\":\"1523\"},\"group\":null,\"hover_glyph\":null,\"muted_glyph\":{\"id\":\"1525\"},\"nonselection_glyph\":{\"id\":\"1524\"},\"view\":{\"id\":\"1527\"}},\"id\":\"1526\",\"type\":\"GlyphRenderer\"},{\"attributes\":{},\"id\":\"1536\",\"type\":\"Selection\"},{\"attributes\":{\"coordinates\":null,\"formatter\":{\"id\":\"1530\"},\"group\":null,\"major_label_policy\":{\"id\":\"1531\"},\"ticker\":{\"id\":\"1513\"},\"visible\":false},\"id\":\"1512\",\"type\":\"LinearAxis\"},{\"attributes\":{},\"id\":\"1506\",\"type\":\"LinearScale\"},{\"attributes\":{},\"id\":\"1513\",\"type\":\"BasicTicker\"},{\"attributes\":{\"axis\":{\"id\":\"1508\"},\"coordinates\":null,\"grid_line_color\":null,\"group\":null,\"ticker\":null},\"id\":\"1511\",\"type\":\"Grid\"},{\"attributes\":{\"field\":\"angle\",\"include_zero\":true},\"id\":\"1519\",\"type\":\"CumSum\"},{\"attributes\":{},\"id\":\"1502\",\"type\":\"DataRange1d\"},{\"attributes\":{},\"id\":\"1509\",\"type\":\"BasicTicker\"},{\"attributes\":{\"coordinates\":null,\"group\":null,\"text\":\"Party seats by proportion\"},\"id\":\"1498\",\"type\":\"Title\"},{\"attributes\":{\"field\":\"angle\"},\"id\":\"1520\",\"type\":\"CumSum\"},{\"attributes\":{},\"id\":\"1500\",\"type\":\"Range1d\"},{\"attributes\":{},\"id\":\"1504\",\"type\":\"LinearScale\"},{\"attributes\":{\"callback\":null,\"tooltips\":\"@party: @seats\"},\"id\":\"1516\",\"type\":\"HoverTool\"},{\"attributes\":{\"axis\":{\"id\":\"1512\"},\"coordinates\":null,\"dimension\":1,\"grid_line_color\":null,\"group\":null,\"ticker\":null},\"id\":\"1515\",\"type\":\"Grid\"},{\"attributes\":{\"coordinates\":null,\"formatter\":{\"id\":\"1533\"},\"group\":null,\"major_label_policy\":{\"id\":\"1534\"},\"ticker\":{\"id\":\"1509\"},\"visible\":false},\"id\":\"1508\",\"type\":\"LinearAxis\"},{\"attributes\":{\"end_angle\":{\"expr\":{\"id\":\"1520\"}},\"fill_color\":{\"field\":\"color\"},\"hatch_color\":{\"field\":\"color\"},\"line_color\":{\"value\":\"white\"},\"radius\":{\"value\":0.25},\"start_angle\":{\"expr\":{\"id\":\"1519\"}},\"x\":{\"value\":0.5},\"y\":{\"value\":0.5}},\"id\":\"1523\",\"type\":\"Wedge\"},{\"attributes\":{},\"id\":\"1530\",\"type\":\"BasicTickFormatter\"},{\"attributes\":{\"source\":{\"id\":\"1521\"}},\"id\":\"1527\",\"type\":\"CDSView\"},{\"attributes\":{},\"id\":\"1531\",\"type\":\"AllLabels\"},{\"attributes\":{},\"id\":\"1533\",\"type\":\"BasicTickFormatter\"},{\"attributes\":{\"end_angle\":{\"expr\":{\"id\":\"1520\"}},\"fill_alpha\":{\"value\":0.1},\"fill_color\":{\"field\":\"color\"},\"hatch_alpha\":{\"value\":0.1},\"hatch_color\":{\"field\":\"color\"},\"line_alpha\":{\"value\":0.1},\"line_color\":{\"value\":\"white\"},\"radius\":{\"value\":0.25},\"start_angle\":{\"expr\":{\"id\":\"1519\"}},\"x\":{\"value\":0.5},\"y\":{\"value\":0.5}},\"id\":\"1524\",\"type\":\"Wedge\"},{\"attributes\":{},\"id\":\"1534\",\"type\":\"AllLabels\"},{\"attributes\":{\"data\":{\"angle\":{\"__ndarray__\":\"kjhwrkOgCEDyRwlT568FQGDNdjhdnt8/\",\"dtype\":\"float64\",\"order\":\"little\",\"shape\":[3]},\"color\":[\"black\",\"red\",\"yellow\"],\"index\":[0,1,2],\"party\":[\"CDU\",\"SPD\",\"FDP\"],\"seats\":[243,214,39]},\"selected\":{\"id\":\"1536\"},\"selection_policy\":{\"id\":\"1535\"}},\"id\":\"1521\",\"type\":\"ColumnDataSource\"}],\"root_ids\":[\"1497\"]},\"title\":\"Bokeh Application\",\"version\":\"2.4.3\"}};\n",
       "  const render_items = [{\"docid\":\"a41470fa-70f0-42eb-b6be-1cda2ec3a498\",\"root_ids\":[\"1497\"],\"roots\":{\"1497\":\"7d4b0301-51a1-4a40-b2fa-33dfc90f6d33\"}}];\n",
       "  root.Bokeh.embed.embed_items_notebook(docs_json, render_items);\n",
       "  }\n",
       "  if (root.Bokeh !== undefined) {\n",
       "    embed_document(root);\n",
       "  } else {\n",
       "    let attempts = 0;\n",
       "    const timer = setInterval(function(root) {\n",
       "      if (root.Bokeh !== undefined) {\n",
       "        clearInterval(timer);\n",
       "        embed_document(root);\n",
       "      } else {\n",
       "        attempts++;\n",
       "        if (attempts > 100) {\n",
       "          clearInterval(timer);\n",
       "          console.log(\"Bokeh: ERROR: Unable to run BokehJS code because BokehJS library is missing\");\n",
       "        }\n",
       "      }\n",
       "    }, 10, root)\n",
       "  }\n",
       "})(window);"
      ],
      "application/vnd.bokehjs_exec.v0+json": ""
     },
     "metadata": {
      "application/vnd.bokehjs_exec.v0+json": {
       "id": "1497"
      }
     },
     "output_type": "display_data"
    }
   ],
   "source": [
    "from bokeh.plotting import figure, show\n",
    "from math import pi\n",
    "from bokeh.transform import cumsum\n",
    "import pandas as pd\n",
    "\n",
    "# create a pandas dataframe with the data sample\n",
    "df = pd.DataFrame({\"party\": party,\n",
    "                  \"seats\": num_seats})\n",
    "\n",
    "df[\"angle\"] = df[\"seats\"]/df[\"seats\"].sum()*2*pi\n",
    "df[\"color\"] = [\"black\", \"red\", \"yellow\"]\n",
    "\n",
    "p = figure(title=\"Party seats by proportion\",\n",
    "          height=300,\n",
    "          toolbar_location=None,\n",
    "          tools=\"hover\",\n",
    "          tooltips=\"@party: @seats\",\n",
    "          x_range=(0, 1),\n",
    "          sizing_mode=\"stretch_width\")\n",
    "\n",
    "p.wedge(x=0.5,\n",
    "        y=0.5,\n",
    "        radius=0.25,\n",
    "        start_angle=cumsum(\"angle\", include_zero=True),\n",
    "        end_angle=cumsum(\"angle\"),\n",
    "        line_color=\"white\",\n",
    "        legend_field=\"party\",\n",
    "        color=\"color\",\n",
    "        source=df)\n",
    "\n",
    "p.axis.axis_label = None\n",
    "p.axis.visible = False\n",
    "p.grid.grid_line_color = None\n",
    "\n",
    "\n",
    "show(p)"
   ]
  },
  {
   "cell_type": "markdown",
   "id": "7b117b82",
   "metadata": {},
   "source": [
    "The `angle` column added to the pandas dataframe contains the angle of each wedge in radians, which is proportional to the number of seats held by each party.\n",
    "\n",
    "**The `wedge()` method** is used to draw each wedge in the plot. It takes the following arguments:\n",
    "\n",
    "*x*(float): specifies the midpoint position of the circle in the x axis.\n",
    "\n",
    "*y*(float): specifies the midpoint position of the circle in the y axis.\n",
    "\n",
    "*radius*(float): takes the size of the circle radius.\n",
    "\n",
    "*start and end angle*(float): computed using the cumsum function, which calculates the cumulative sum of the angle column of the DataFrame. This ensures that each wedge starts where the previous one left off.\n",
    "\n",
    "Other optional parameters can also be included like color and legend fields.\n",
    "\n",
    "The `color` argument specifies the color of each wedge based on the color column of the DataFrame, and the `legend_field` argument adds a legend to the plot showing the name of each party.\n",
    "\n",
    "Finally, the code also sets some additional plot properties using the axis and grid properties of the plot."
   ]
  },
  {
   "cell_type": "markdown",
   "id": "030c472d",
   "metadata": {},
   "source": [
    "***Stacked bars*** are another method of visualising proportions, especially if the data is being compared across different times.\n",
    "\n",
    "Consider the following [data](https://data.ipu.org/content/rwanda?chamber_id=13513) about women participation in the Rwandan parliament over the years:"
   ]
  },
  {
   "cell_type": "code",
   "execution_count": 8,
   "id": "cc3c2dbc",
   "metadata": {},
   "outputs": [],
   "source": [
    "import pandas as pd\n",
    "\n",
    "data = {\n",
    "    \"Year\": [\"1981\",\"1983\",\"1988\",\"1994\",\"2003\",\"2008\",\"2011\",\"2013\",\"2018\"],\n",
    "    \"%women\": [6.3,12.9,17.1,4.3,48.8,56.3,38.5,56.3,61.3]}\n",
    "\n",
    "df = pd.DataFrame(data)\n",
    "df[\"%men\"] = [100-x for x in df[\"%women\"]]\n",
    "             "
   ]
  },
  {
   "cell_type": "markdown",
   "id": "06f59111",
   "metadata": {},
   "source": [
    "You can create a stacked bar chat showing how the proportions have been changing over the years as follows:"
   ]
  },
  {
   "cell_type": "code",
   "execution_count": 9,
   "id": "c446472f",
   "metadata": {
    "scrolled": true
   },
   "outputs": [
    {
     "data": {
      "text/html": [
       "\n",
       "  <div class=\"bk-root\" id=\"9f183e7d-e884-4f3b-b12c-a0b770360fd6\" data-root-id=\"1633\"></div>\n"
      ]
     },
     "metadata": {},
     "output_type": "display_data"
    },
    {
     "data": {
      "application/javascript": [
       "(function(root) {\n",
       "  function embed_document(root) {\n",
       "  const docs_json = {\"bfc1798a-401c-4f07-bf92-d0574e902b85\":{\"defs\":[],\"roots\":{\"references\":[{\"attributes\":{\"below\":[{\"id\":\"1644\"}],\"center\":[{\"id\":\"1646\"},{\"id\":\"1650\"},{\"id\":\"1686\"},{\"id\":\"1708\"}],\"height\":300,\"left\":[{\"id\":\"1647\"}],\"renderers\":[{\"id\":\"1674\"},{\"id\":\"1693\"}],\"sizing_mode\":\"stretch_width\",\"title\":{\"id\":\"1634\"},\"toolbar\":{\"id\":\"1658\"},\"toolbar_location\":null,\"x_range\":{\"id\":\"1636\"},\"x_scale\":{\"id\":\"1640\"},\"y_range\":{\"id\":\"1638\"},\"y_scale\":{\"id\":\"1642\"}},\"id\":\"1633\",\"subtype\":\"Figure\",\"type\":\"Plot\"},{\"attributes\":{\"data\":{\"%men\":{\"__ndarray__\":\"zczMzMxsV0BmZmZmZsZVQJqZmZmZuVRAzczMzMzsV0CamZmZmZlJQJqZmZmZ2UVAAAAAAADATkCamZmZmdlFQJqZmZmZWUNA\",\"dtype\":\"float64\",\"order\":\"little\",\"shape\":[9]},\"%women\":{\"__ndarray__\":\"MzMzMzMzGUDNzMzMzMwpQJqZmZmZGTFAMzMzMzMzEUBmZmZmZmZIQGZmZmZmJkxAAAAAAABAQ0BmZmZmZiZMQGZmZmZmpk5A\",\"dtype\":\"float64\",\"order\":\"little\",\"shape\":[9]},\"Year\":[\"1981\",\"1983\",\"1988\",\"1994\",\"2003\",\"2008\",\"2011\",\"2013\",\"2018\"],\"index\":[0,1,2,3,4,5,6,7,8]},\"selected\":{\"id\":\"1705\"},\"selection_policy\":{\"id\":\"1704\"}},\"id\":\"1688\",\"type\":\"ColumnDataSource\"},{\"attributes\":{\"fields\":[\"%men\"]},\"id\":\"1666\",\"type\":\"Stack\"},{\"attributes\":{\"bottom\":{\"expr\":{\"id\":\"1667\"}},\"fill_alpha\":{\"value\":0.2},\"fill_color\":{\"value\":\"pink\"},\"hatch_alpha\":{\"value\":0.2},\"hatch_color\":{\"value\":\"pink\"},\"line_alpha\":{\"value\":0.2},\"line_color\":{\"value\":\"pink\"},\"top\":{\"expr\":{\"id\":\"1668\"}},\"width\":{\"value\":0.95},\"x\":{\"field\":\"Year\"}},\"id\":\"1692\",\"type\":\"VBar\"},{\"attributes\":{\"bottom\":{\"expr\":{\"id\":\"1665\"}},\"fill_alpha\":{\"value\":0.1},\"fill_color\":{\"value\":\"skyblue\"},\"hatch_alpha\":{\"value\":0.1},\"hatch_color\":{\"value\":\"skyblue\"},\"line_alpha\":{\"value\":0.1},\"line_color\":{\"value\":\"skyblue\"},\"top\":{\"expr\":{\"id\":\"1666\"}},\"width\":{\"value\":0.95},\"x\":{\"field\":\"Year\"}},\"id\":\"1672\",\"type\":\"VBar\"},{\"attributes\":{\"bottom\":{\"expr\":{\"id\":\"1667\"}},\"fill_color\":{\"value\":\"pink\"},\"hatch_color\":{\"value\":\"pink\"},\"line_color\":{\"value\":\"pink\"},\"top\":{\"expr\":{\"id\":\"1668\"}},\"width\":{\"value\":0.95},\"x\":{\"field\":\"Year\"}},\"id\":\"1690\",\"type\":\"VBar\"},{\"attributes\":{\"bottom\":{\"expr\":{\"id\":\"1665\"}},\"fill_color\":{\"value\":\"skyblue\"},\"hatch_color\":{\"value\":\"skyblue\"},\"line_color\":{\"value\":\"skyblue\"},\"top\":{\"expr\":{\"id\":\"1666\"}},\"width\":{\"value\":0.95},\"x\":{\"field\":\"Year\"}},\"id\":\"1671\",\"type\":\"VBar\"},{\"attributes\":{\"fields\":[]},\"id\":\"1665\",\"type\":\"Stack\"},{\"attributes\":{},\"id\":\"1705\",\"type\":\"Selection\"},{\"attributes\":{\"bottom\":{\"expr\":{\"id\":\"1665\"}},\"fill_alpha\":{\"value\":0.2},\"fill_color\":{\"value\":\"skyblue\"},\"hatch_alpha\":{\"value\":0.2},\"hatch_color\":{\"value\":\"skyblue\"},\"line_alpha\":{\"value\":0.2},\"line_color\":{\"value\":\"skyblue\"},\"top\":{\"expr\":{\"id\":\"1666\"}},\"width\":{\"value\":0.95},\"x\":{\"field\":\"Year\"}},\"id\":\"1673\",\"type\":\"VBar\"},{\"attributes\":{\"data\":{\"%men\":{\"__ndarray__\":\"zczMzMxsV0BmZmZmZsZVQJqZmZmZuVRAzczMzMzsV0CamZmZmZlJQJqZmZmZ2UVAAAAAAADATkCamZmZmdlFQJqZmZmZWUNA\",\"dtype\":\"float64\",\"order\":\"little\",\"shape\":[9]},\"%women\":{\"__ndarray__\":\"MzMzMzMzGUDNzMzMzMwpQJqZmZmZGTFAMzMzMzMzEUBmZmZmZmZIQGZmZmZmJkxAAAAAAABAQ0BmZmZmZiZMQGZmZmZmpk5A\",\"dtype\":\"float64\",\"order\":\"little\",\"shape\":[9]},\"Year\":[\"1981\",\"1983\",\"1988\",\"1994\",\"2003\",\"2008\",\"2011\",\"2013\",\"2018\"],\"index\":[0,1,2,3,4,5,6,7,8]},\"selected\":{\"id\":\"1684\"},\"selection_policy\":{\"id\":\"1683\"}},\"id\":\"1669\",\"type\":\"ColumnDataSource\"},{\"attributes\":{},\"id\":\"1704\",\"type\":\"UnionRenderers\"},{\"attributes\":{\"factors\":[\"1981\",\"1983\",\"1988\",\"1994\",\"2003\",\"2008\",\"2011\",\"2013\",\"2018\"]},\"id\":\"1636\",\"type\":\"FactorRange\"},{\"attributes\":{\"background_fill_alpha\":0.3,\"coordinates\":null,\"group\":null,\"items\":[{\"id\":\"1687\"},{\"id\":\"1707\"}]},\"id\":\"1686\",\"type\":\"Legend\"},{\"attributes\":{\"label\":{\"value\":\"women\"},\"renderers\":[{\"id\":\"1693\"}]},\"id\":\"1707\",\"type\":\"LegendItem\"},{\"attributes\":{\"source\":{\"id\":\"1688\"}},\"id\":\"1694\",\"type\":\"CDSView\"},{\"attributes\":{},\"id\":\"1655\",\"type\":\"ResetTool\"},{\"attributes\":{},\"id\":\"1642\",\"type\":\"LinearScale\"},{\"attributes\":{\"end\":100},\"id\":\"1638\",\"type\":\"Range1d\"},{\"attributes\":{\"fields\":[\"%men\"]},\"id\":\"1667\",\"type\":\"Stack\"},{\"attributes\":{},\"id\":\"1654\",\"type\":\"SaveTool\"},{\"attributes\":{\"overlay\":{\"id\":\"1657\"}},\"id\":\"1653\",\"type\":\"BoxZoomTool\"},{\"attributes\":{},\"id\":\"1651\",\"type\":\"PanTool\"},{\"attributes\":{\"label\":{\"value\":\"men\"},\"renderers\":[{\"id\":\"1674\"}]},\"id\":\"1687\",\"type\":\"LegendItem\"},{\"attributes\":{},\"id\":\"1683\",\"type\":\"UnionRenderers\"},{\"attributes\":{},\"id\":\"1652\",\"type\":\"WheelZoomTool\"},{\"attributes\":{\"coordinates\":null,\"data_source\":{\"id\":\"1669\"},\"glyph\":{\"id\":\"1671\"},\"group\":null,\"hover_glyph\":null,\"muted_glyph\":{\"id\":\"1673\"},\"name\":\"%men\",\"nonselection_glyph\":{\"id\":\"1672\"},\"view\":{\"id\":\"1675\"}},\"id\":\"1674\",\"type\":\"GlyphRenderer\"},{\"attributes\":{\"bottom\":{\"expr\":{\"id\":\"1667\"}},\"fill_alpha\":{\"value\":0.1},\"fill_color\":{\"value\":\"pink\"},\"hatch_alpha\":{\"value\":0.1},\"hatch_color\":{\"value\":\"pink\"},\"line_alpha\":{\"value\":0.1},\"line_color\":{\"value\":\"pink\"},\"top\":{\"expr\":{\"id\":\"1668\"}},\"width\":{\"value\":0.95},\"x\":{\"field\":\"Year\"}},\"id\":\"1691\",\"type\":\"VBar\"},{\"attributes\":{\"coordinates\":null,\"group\":null,\"line_width\":1.5,\"location\":50},\"id\":\"1708\",\"type\":\"Span\"},{\"attributes\":{},\"id\":\"1681\",\"type\":\"CategoricalTickFormatter\"},{\"attributes\":{},\"id\":\"1679\",\"type\":\"AllLabels\"},{\"attributes\":{},\"id\":\"1645\",\"type\":\"CategoricalTicker\"},{\"attributes\":{\"tools\":[{\"id\":\"1651\"},{\"id\":\"1652\"},{\"id\":\"1653\"},{\"id\":\"1654\"},{\"id\":\"1655\"},{\"id\":\"1656\"}]},\"id\":\"1658\",\"type\":\"Toolbar\"},{\"attributes\":{\"source\":{\"id\":\"1669\"}},\"id\":\"1675\",\"type\":\"CDSView\"},{\"attributes\":{\"axis_label\":\"Percentage\",\"coordinates\":null,\"formatter\":{\"id\":\"1678\"},\"group\":null,\"major_label_policy\":{\"id\":\"1679\"},\"ticker\":{\"id\":\"1648\"}},\"id\":\"1647\",\"type\":\"LinearAxis\"},{\"attributes\":{},\"id\":\"1684\",\"type\":\"Selection\"},{\"attributes\":{},\"id\":\"1648\",\"type\":\"BasicTicker\"},{\"attributes\":{\"axis\":{\"id\":\"1647\"},\"coordinates\":null,\"dimension\":1,\"group\":null,\"ticker\":null},\"id\":\"1650\",\"type\":\"Grid\"},{\"attributes\":{},\"id\":\"1678\",\"type\":\"BasicTickFormatter\"},{\"attributes\":{\"bottom_units\":\"screen\",\"coordinates\":null,\"fill_alpha\":0.5,\"fill_color\":\"lightgrey\",\"group\":null,\"left_units\":\"screen\",\"level\":\"overlay\",\"line_alpha\":1.0,\"line_color\":\"black\",\"line_dash\":[4,4],\"line_width\":2,\"right_units\":\"screen\",\"syncable\":false,\"top_units\":\"screen\"},\"id\":\"1657\",\"type\":\"BoxAnnotation\"},{\"attributes\":{\"axis\":{\"id\":\"1644\"},\"coordinates\":null,\"grid_line_color\":null,\"group\":null,\"ticker\":null},\"id\":\"1646\",\"type\":\"Grid\"},{\"attributes\":{},\"id\":\"1656\",\"type\":\"HelpTool\"},{\"attributes\":{\"coordinates\":null,\"group\":null,\"text\":\"Proportion of women and men in parliament\"},\"id\":\"1634\",\"type\":\"Title\"},{\"attributes\":{},\"id\":\"1682\",\"type\":\"AllLabels\"},{\"attributes\":{},\"id\":\"1640\",\"type\":\"CategoricalScale\"},{\"attributes\":{\"coordinates\":null,\"data_source\":{\"id\":\"1688\"},\"glyph\":{\"id\":\"1690\"},\"group\":null,\"hover_glyph\":null,\"muted_glyph\":{\"id\":\"1692\"},\"name\":\"%women\",\"nonselection_glyph\":{\"id\":\"1691\"},\"view\":{\"id\":\"1694\"}},\"id\":\"1693\",\"type\":\"GlyphRenderer\"},{\"attributes\":{\"axis_label\":\"Year\",\"coordinates\":null,\"formatter\":{\"id\":\"1681\"},\"group\":null,\"major_label_policy\":{\"id\":\"1682\"},\"ticker\":{\"id\":\"1645\"}},\"id\":\"1644\",\"type\":\"CategoricalAxis\"},{\"attributes\":{\"fields\":[\"%men\",\"%women\"]},\"id\":\"1668\",\"type\":\"Stack\"}],\"root_ids\":[\"1633\"]},\"title\":\"Bokeh Application\",\"version\":\"2.4.3\"}};\n",
       "  const render_items = [{\"docid\":\"bfc1798a-401c-4f07-bf92-d0574e902b85\",\"root_ids\":[\"1633\"],\"roots\":{\"1633\":\"9f183e7d-e884-4f3b-b12c-a0b770360fd6\"}}];\n",
       "  root.Bokeh.embed.embed_items_notebook(docs_json, render_items);\n",
       "  }\n",
       "  if (root.Bokeh !== undefined) {\n",
       "    embed_document(root);\n",
       "  } else {\n",
       "    let attempts = 0;\n",
       "    const timer = setInterval(function(root) {\n",
       "      if (root.Bokeh !== undefined) {\n",
       "        clearInterval(timer);\n",
       "        embed_document(root);\n",
       "      } else {\n",
       "        attempts++;\n",
       "        if (attempts > 100) {\n",
       "          clearInterval(timer);\n",
       "          console.log(\"Bokeh: ERROR: Unable to run BokehJS code because BokehJS library is missing\");\n",
       "        }\n",
       "      }\n",
       "    }, 10, root)\n",
       "  }\n",
       "})(window);"
      ],
      "application/vnd.bokehjs_exec.v0+json": ""
     },
     "metadata": {
      "application/vnd.bokehjs_exec.v0+json": {
       "id": "1633"
      }
     },
     "output_type": "display_data"
    }
   ],
   "source": [
    "from bokeh.plotting import figure, show \n",
    "from bokeh.models import Span\n",
    "\n",
    "p = figure(title=\"Proportion of women and men in parliament\",\n",
    "           height=300,\n",
    "           toolbar_location=None,\n",
    "           x_range=df.Year,\n",
    "           y_range=(0,100),\n",
    "           sizing_mode=\"stretch_width\")\n",
    "\n",
    "p.vbar_stack([\"%men\", \"%women\"],\n",
    "             x=\"Year\",\n",
    "             width=0.95,\n",
    "             source=df,\n",
    "             color=[\"skyblue\",\"pink\"],\n",
    "            legend_label=[\"men\", \"women\"])\n",
    "\n",
    "p.y_range.start = 0\n",
    "p.xgrid.grid_line_color = None\n",
    "p.xaxis.axis_label = \"Year\"\n",
    "p.yaxis.axis_label = \"Percentage\"\n",
    "p.legend.location = \"top_right\"\n",
    "p.legend.orientation = \"vertical\"\n",
    "p.legend.background_fill_alpha = 0.3\n",
    "\n",
    "# Add horizontal line\n",
    "line = Span(location=50,\n",
    "            dimension=\"width\",\n",
    "            line_color=\"black\",\n",
    "            line_width=1.5)\n",
    "\n",
    "p.add_layout(line)\n",
    "\n",
    "show(p)\n"
   ]
  },
  {
   "cell_type": "markdown",
   "id": "19c5402b",
   "metadata": {},
   "source": [
    "The `vbar_stack` method plots the data ontop of each other and a casual glance at the plot reveals how the percentage of women in parliament has been increasing over the years with the percentage crossing 50% around 2003.\n",
    "\n",
    "A horizontal line is also drawn to clearly show the threshold where the participation got to 50%."
   ]
  },
  {
   "cell_type": "markdown",
   "id": "231239bc",
   "metadata": {},
   "source": [
    "### Visualising time series\n",
    "\n",
    "*Line plots* and *Scatter plots* are a good way of visualising how things change over time. Take the previous data sample for example: You can plot a line graph and scatter plot to depict how the trend in women participation has evolved over the years."
   ]
  },
  {
   "cell_type": "code",
   "execution_count": 14,
   "id": "2c7193de",
   "metadata": {},
   "outputs": [
    {
     "data": {
      "text/html": [
       "\n",
       "  <div class=\"bk-root\" id=\"29f67f97-ba8d-4a72-be77-fd87e9953f24\" data-root-id=\"2548\"></div>\n"
      ]
     },
     "metadata": {},
     "output_type": "display_data"
    },
    {
     "data": {
      "application/javascript": [
       "(function(root) {\n",
       "  function embed_document(root) {\n",
       "  const docs_json = {\"dfb707c1-53b0-4e79-b07c-0056e55e3e33\":{\"defs\":[],\"roots\":{\"references\":[{\"attributes\":{\"below\":[{\"id\":\"2559\"}],\"center\":[{\"id\":\"2562\"},{\"id\":\"2566\"}],\"height\":300,\"left\":[{\"id\":\"2563\"}],\"renderers\":[{\"id\":\"2575\"},{\"id\":\"2582\"}],\"sizing_mode\":\"stretch_both\",\"title\":{\"id\":\"2549\"},\"toolbar\":{\"id\":\"2568\"},\"toolbar_location\":null,\"x_range\":{\"id\":\"2551\"},\"x_scale\":{\"id\":\"2555\"},\"y_range\":{\"id\":\"2553\"},\"y_scale\":{\"id\":\"2557\"}},\"id\":\"2548\",\"subtype\":\"Figure\",\"type\":\"Plot\"},{\"attributes\":{},\"id\":\"2553\",\"type\":\"DataRange1d\"},{\"attributes\":{},\"id\":\"2696\",\"type\":\"UnionRenderers\"},{\"attributes\":{},\"id\":\"2555\",\"type\":\"LinearScale\"},{\"attributes\":{},\"id\":\"2697\",\"type\":\"Selection\"},{\"attributes\":{},\"id\":\"2557\",\"type\":\"LinearScale\"},{\"attributes\":{\"fill_alpha\":{\"value\":0.1},\"fill_color\":{\"value\":\"grey\"},\"hatch_alpha\":{\"value\":0.1},\"line_alpha\":{\"value\":0.1},\"line_color\":{\"value\":\"#1f77b4\"},\"size\":{\"value\":5},\"x\":{\"field\":\"Year\"},\"y\":{\"field\":\"%women\"}},\"id\":\"2580\",\"type\":\"Scatter\"},{\"attributes\":{},\"id\":\"2692\",\"type\":\"AllLabels\"},{\"attributes\":{},\"id\":\"2694\",\"type\":\"BasicTickFormatter\"},{\"attributes\":{},\"id\":\"2698\",\"type\":\"UnionRenderers\"},{\"attributes\":{},\"id\":\"2699\",\"type\":\"Selection\"},{\"attributes\":{\"axis_label\":\"Year\",\"coordinates\":null,\"formatter\":{\"id\":\"2694\"},\"group\":null,\"major_label_policy\":{\"id\":\"2695\"},\"ticker\":{\"id\":\"2560\"}},\"id\":\"2559\",\"type\":\"LinearAxis\"},{\"attributes\":{\"line_alpha\":0.2,\"line_color\":\"skyblue\",\"line_width\":2,\"x\":{\"field\":\"Year\"},\"y\":{\"field\":\"%women\"}},\"id\":\"2574\",\"type\":\"Line\"},{\"attributes\":{\"data\":{\"%men\":{\"__ndarray__\":\"zczMzMxsV0BmZmZmZsZVQJqZmZmZuVRAzczMzMzsV0CamZmZmZlJQJqZmZmZ2UVAAAAAAADATkCamZmZmdlFQJqZmZmZWUNA\",\"dtype\":\"float64\",\"order\":\"little\",\"shape\":[9]},\"%women\":{\"__ndarray__\":\"MzMzMzMzGUDNzMzMzMwpQJqZmZmZGTFAMzMzMzMzEUBmZmZmZmZIQGZmZmZmJkxAAAAAAABAQ0BmZmZmZiZMQGZmZmZmpk5A\",\"dtype\":\"float64\",\"order\":\"little\",\"shape\":[9]},\"Year\":[\"1981\",\"1983\",\"1988\",\"1994\",\"2003\",\"2008\",\"2011\",\"2013\",\"2018\"],\"index\":[0,1,2,3,4,5,6,7,8]},\"selected\":{\"id\":\"2699\"},\"selection_policy\":{\"id\":\"2698\"}},\"id\":\"2577\",\"type\":\"ColumnDataSource\"},{\"attributes\":{\"coordinates\":null,\"group\":null,\"text\":\"Women participation over the years\"},\"id\":\"2549\",\"type\":\"Title\"},{\"attributes\":{\"axis_label\":\"Percentage\",\"coordinates\":null,\"formatter\":{\"id\":\"2691\"},\"group\":null,\"major_label_policy\":{\"id\":\"2692\"},\"ticker\":{\"id\":\"2564\"}},\"id\":\"2563\",\"type\":\"LinearAxis\"},{\"attributes\":{},\"id\":\"2551\",\"type\":\"DataRange1d\"},{\"attributes\":{},\"id\":\"2560\",\"type\":\"BasicTicker\"},{\"attributes\":{\"axis\":{\"id\":\"2559\"},\"coordinates\":null,\"group\":null,\"ticker\":null},\"id\":\"2562\",\"type\":\"Grid\"},{\"attributes\":{\"line_color\":\"skyblue\",\"line_width\":2,\"x\":{\"field\":\"Year\"},\"y\":{\"field\":\"%women\"}},\"id\":\"2572\",\"type\":\"Line\"},{\"attributes\":{\"fill_color\":{\"value\":\"grey\"},\"line_color\":{\"value\":\"#1f77b4\"},\"size\":{\"value\":5},\"x\":{\"field\":\"Year\"},\"y\":{\"field\":\"%women\"}},\"id\":\"2579\",\"type\":\"Scatter\"},{\"attributes\":{\"coordinates\":null,\"data_source\":{\"id\":\"2570\"},\"glyph\":{\"id\":\"2572\"},\"group\":null,\"hover_glyph\":null,\"muted_glyph\":{\"id\":\"2574\"},\"nonselection_glyph\":{\"id\":\"2573\"},\"view\":{\"id\":\"2576\"}},\"id\":\"2575\",\"type\":\"GlyphRenderer\"},{\"attributes\":{\"source\":{\"id\":\"2570\"}},\"id\":\"2576\",\"type\":\"CDSView\"},{\"attributes\":{},\"id\":\"2691\",\"type\":\"BasicTickFormatter\"},{\"attributes\":{\"axis\":{\"id\":\"2563\"},\"coordinates\":null,\"dimension\":1,\"group\":null,\"ticker\":null},\"id\":\"2566\",\"type\":\"Grid\"},{\"attributes\":{\"line_alpha\":0.1,\"line_color\":\"skyblue\",\"line_width\":2,\"x\":{\"field\":\"Year\"},\"y\":{\"field\":\"%women\"}},\"id\":\"2573\",\"type\":\"Line\"},{\"attributes\":{\"fill_alpha\":{\"value\":0.2},\"fill_color\":{\"value\":\"grey\"},\"hatch_alpha\":{\"value\":0.2},\"line_alpha\":{\"value\":0.2},\"line_color\":{\"value\":\"#1f77b4\"},\"size\":{\"value\":5},\"x\":{\"field\":\"Year\"},\"y\":{\"field\":\"%women\"}},\"id\":\"2581\",\"type\":\"Scatter\"},{\"attributes\":{},\"id\":\"2564\",\"type\":\"BasicTicker\"},{\"attributes\":{\"tools\":[{\"id\":\"2567\"}]},\"id\":\"2568\",\"type\":\"Toolbar\"},{\"attributes\":{\"data\":{\"%men\":{\"__ndarray__\":\"zczMzMxsV0BmZmZmZsZVQJqZmZmZuVRAzczMzMzsV0CamZmZmZlJQJqZmZmZ2UVAAAAAAADATkCamZmZmdlFQJqZmZmZWUNA\",\"dtype\":\"float64\",\"order\":\"little\",\"shape\":[9]},\"%women\":{\"__ndarray__\":\"MzMzMzMzGUDNzMzMzMwpQJqZmZmZGTFAMzMzMzMzEUBmZmZmZmZIQGZmZmZmJkxAAAAAAABAQ0BmZmZmZiZMQGZmZmZmpk5A\",\"dtype\":\"float64\",\"order\":\"little\",\"shape\":[9]},\"Year\":[\"1981\",\"1983\",\"1988\",\"1994\",\"2003\",\"2008\",\"2011\",\"2013\",\"2018\"],\"index\":[0,1,2,3,4,5,6,7,8]},\"selected\":{\"id\":\"2697\"},\"selection_policy\":{\"id\":\"2696\"}},\"id\":\"2570\",\"type\":\"ColumnDataSource\"},{\"attributes\":{\"source\":{\"id\":\"2577\"}},\"id\":\"2583\",\"type\":\"CDSView\"},{\"attributes\":{\"callback\":null,\"tooltips\":\"@Year: @{%women} %\"},\"id\":\"2567\",\"type\":\"HoverTool\"},{\"attributes\":{\"coordinates\":null,\"data_source\":{\"id\":\"2577\"},\"glyph\":{\"id\":\"2579\"},\"group\":null,\"hover_glyph\":null,\"muted_glyph\":{\"id\":\"2581\"},\"nonselection_glyph\":{\"id\":\"2580\"},\"view\":{\"id\":\"2583\"}},\"id\":\"2582\",\"type\":\"GlyphRenderer\"},{\"attributes\":{},\"id\":\"2695\",\"type\":\"AllLabels\"}],\"root_ids\":[\"2548\"]},\"title\":\"Bokeh Application\",\"version\":\"2.4.3\"}};\n",
       "  const render_items = [{\"docid\":\"dfb707c1-53b0-4e79-b07c-0056e55e3e33\",\"root_ids\":[\"2548\"],\"roots\":{\"2548\":\"29f67f97-ba8d-4a72-be77-fd87e9953f24\"}}];\n",
       "  root.Bokeh.embed.embed_items_notebook(docs_json, render_items);\n",
       "  }\n",
       "  if (root.Bokeh !== undefined) {\n",
       "    embed_document(root);\n",
       "  } else {\n",
       "    let attempts = 0;\n",
       "    const timer = setInterval(function(root) {\n",
       "      if (root.Bokeh !== undefined) {\n",
       "        clearInterval(timer);\n",
       "        embed_document(root);\n",
       "      } else {\n",
       "        attempts++;\n",
       "        if (attempts > 100) {\n",
       "          clearInterval(timer);\n",
       "          console.log(\"Bokeh: ERROR: Unable to run BokehJS code because BokehJS library is missing\");\n",
       "        }\n",
       "      }\n",
       "    }, 10, root)\n",
       "  }\n",
       "})(window);"
      ],
      "application/vnd.bokehjs_exec.v0+json": ""
     },
     "metadata": {
      "application/vnd.bokehjs_exec.v0+json": {
       "id": "2548"
      }
     },
     "output_type": "display_data"
    }
   ],
   "source": [
    "import pandas as pd\n",
    "from bokeh.plotting import figure, show\n",
    "\n",
    "p = figure(title=\"Women participation over the years\",\n",
    "           plot_height=300,\n",
    "           sizing_mode=\"stretch_both\",\n",
    "           tools=\"hover\",\n",
    "           tooltips=\"@Year: @{%women}%\",\n",
    "           toolbar_location=None)\n",
    "\n",
    "p.line(x=\"Year\",\n",
    "       y=\"%women\",\n",
    "       source=df,\n",
    "       line_width=2,\n",
    "       color=\"skyblue\")\n",
    "\n",
    "p.scatter(x=\"Year\",\n",
    "          y=\"%women\",\n",
    "          source=df,\n",
    "          size=5,\n",
    "          fill_color=\"grey\")\n",
    "\n",
    "p.xaxis.axis_label = \"Year\"\n",
    "p.yaxis.axis_label = \"Percentage\"\n",
    "\n",
    "show(p)"
   ]
  },
  {
   "cell_type": "markdown",
   "id": "0542cff3",
   "metadata": {},
   "source": [
    "The `scatter` method is used to plot the percentage points against the year while the `line` method is used to join the plot points together. The `hover` tool is used to add interactive options on the scatter points to show the actual values."
   ]
  },
  {
   "cell_type": "code",
   "execution_count": null,
   "id": "19062c06",
   "metadata": {},
   "outputs": [],
   "source": []
  }
 ],
 "metadata": {
  "kernelspec": {
   "display_name": "Python 3 (ipykernel)",
   "language": "python",
   "name": "python3"
  },
  "language_info": {
   "codemirror_mode": {
    "name": "ipython",
    "version": 3
   },
   "file_extension": ".py",
   "mimetype": "text/x-python",
   "name": "python",
   "nbconvert_exporter": "python",
   "pygments_lexer": "ipython3",
   "version": "3.9.13"
  }
 },
 "nbformat": 4,
 "nbformat_minor": 5
}
